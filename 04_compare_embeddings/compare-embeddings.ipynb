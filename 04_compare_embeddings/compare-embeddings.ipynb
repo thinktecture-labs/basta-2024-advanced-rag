{
 "cells": [
  {
   "cell_type": "markdown",
   "metadata": {},
   "source": [
    "# Compare embeddings performance\n",
    "\n",
    "We use different approaches to create embeddings from the same texts and compare their performance.\n",
    "\n",
    "## Dependencies\n",
    "\n",
    "We use Python 3.9 for that.\n",
    "\n",
    "To run the required vector database locally, use this command:  \n",
    "`docker run --name 04-compare-embeddings-demo-vectordb -p 6333:6333 -p 6334:6334 -d qdrant/qdrant`"
   ]
  },
  {
   "cell_type": "code",
   "execution_count": 17,
   "metadata": {},
   "outputs": [
    {
     "name": "stdout",
     "output_type": "stream",
     "text": [
      "Requirement already satisfied: chromadb in /Users/sebastian/dev/tt/conf/basta-2024-rag/.conda/lib/python3.9/site-packages (0.5.3)\n",
      "Requirement already satisfied: build>=1.0.3 in /Users/sebastian/dev/tt/conf/basta-2024-rag/.conda/lib/python3.9/site-packages (from chromadb) (1.2.2)\n",
      "Requirement already satisfied: requests>=2.28 in /Users/sebastian/dev/tt/conf/basta-2024-rag/.conda/lib/python3.9/site-packages (from chromadb) (2.32.3)\n",
      "Requirement already satisfied: pydantic>=1.9 in /Users/sebastian/dev/tt/conf/basta-2024-rag/.conda/lib/python3.9/site-packages (from chromadb) (2.9.1)\n",
      "Requirement already satisfied: chroma-hnswlib==0.7.3 in /Users/sebastian/dev/tt/conf/basta-2024-rag/.conda/lib/python3.9/site-packages (from chromadb) (0.7.3)\n",
      "Requirement already satisfied: fastapi>=0.95.2 in /Users/sebastian/dev/tt/conf/basta-2024-rag/.conda/lib/python3.9/site-packages (from chromadb) (0.114.2)\n",
      "Requirement already satisfied: uvicorn>=0.18.3 in /Users/sebastian/dev/tt/conf/basta-2024-rag/.conda/lib/python3.9/site-packages (from uvicorn[standard]>=0.18.3->chromadb) (0.30.6)\n",
      "Requirement already satisfied: numpy<2.0.0,>=1.22.5 in /Users/sebastian/dev/tt/conf/basta-2024-rag/.conda/lib/python3.9/site-packages (from chromadb) (1.26.4)\n",
      "Requirement already satisfied: posthog>=2.4.0 in /Users/sebastian/dev/tt/conf/basta-2024-rag/.conda/lib/python3.9/site-packages (from chromadb) (3.6.6)\n",
      "Requirement already satisfied: typing-extensions>=4.5.0 in /Users/sebastian/dev/tt/conf/basta-2024-rag/.conda/lib/python3.9/site-packages (from chromadb) (4.12.2)\n",
      "Requirement already satisfied: onnxruntime>=1.14.1 in /Users/sebastian/dev/tt/conf/basta-2024-rag/.conda/lib/python3.9/site-packages (from chromadb) (1.19.2)\n",
      "Requirement already satisfied: opentelemetry-api>=1.2.0 in /Users/sebastian/dev/tt/conf/basta-2024-rag/.conda/lib/python3.9/site-packages (from chromadb) (1.27.0)\n",
      "Requirement already satisfied: opentelemetry-exporter-otlp-proto-grpc>=1.2.0 in /Users/sebastian/dev/tt/conf/basta-2024-rag/.conda/lib/python3.9/site-packages (from chromadb) (1.27.0)\n",
      "Requirement already satisfied: opentelemetry-instrumentation-fastapi>=0.41b0 in /Users/sebastian/dev/tt/conf/basta-2024-rag/.conda/lib/python3.9/site-packages (from chromadb) (0.48b0)\n",
      "Requirement already satisfied: opentelemetry-sdk>=1.2.0 in /Users/sebastian/dev/tt/conf/basta-2024-rag/.conda/lib/python3.9/site-packages (from chromadb) (1.27.0)\n",
      "Requirement already satisfied: tokenizers>=0.13.2 in /Users/sebastian/dev/tt/conf/basta-2024-rag/.conda/lib/python3.9/site-packages (from chromadb) (0.19.1)\n",
      "Requirement already satisfied: pypika>=0.48.9 in /Users/sebastian/dev/tt/conf/basta-2024-rag/.conda/lib/python3.9/site-packages (from chromadb) (0.48.9)\n",
      "Requirement already satisfied: tqdm>=4.65.0 in /Users/sebastian/dev/tt/conf/basta-2024-rag/.conda/lib/python3.9/site-packages (from chromadb) (4.66.5)\n",
      "Requirement already satisfied: overrides>=7.3.1 in /Users/sebastian/dev/tt/conf/basta-2024-rag/.conda/lib/python3.9/site-packages (from chromadb) (7.7.0)\n",
      "Requirement already satisfied: importlib-resources in /Users/sebastian/dev/tt/conf/basta-2024-rag/.conda/lib/python3.9/site-packages (from chromadb) (6.4.5)\n",
      "Requirement already satisfied: grpcio>=1.58.0 in /Users/sebastian/dev/tt/conf/basta-2024-rag/.conda/lib/python3.9/site-packages (from chromadb) (1.66.1)\n",
      "Requirement already satisfied: bcrypt>=4.0.1 in /Users/sebastian/dev/tt/conf/basta-2024-rag/.conda/lib/python3.9/site-packages (from chromadb) (4.2.0)\n",
      "Requirement already satisfied: typer>=0.9.0 in /Users/sebastian/dev/tt/conf/basta-2024-rag/.conda/lib/python3.9/site-packages (from chromadb) (0.12.5)\n",
      "Requirement already satisfied: kubernetes>=28.1.0 in /Users/sebastian/dev/tt/conf/basta-2024-rag/.conda/lib/python3.9/site-packages (from chromadb) (30.1.0)\n",
      "Requirement already satisfied: tenacity>=8.2.3 in /Users/sebastian/dev/tt/conf/basta-2024-rag/.conda/lib/python3.9/site-packages (from chromadb) (8.5.0)\n",
      "Requirement already satisfied: PyYAML>=6.0.0 in /Users/sebastian/dev/tt/conf/basta-2024-rag/.conda/lib/python3.9/site-packages (from chromadb) (6.0.2)\n",
      "Requirement already satisfied: mmh3>=4.0.1 in /Users/sebastian/dev/tt/conf/basta-2024-rag/.conda/lib/python3.9/site-packages (from chromadb) (4.1.0)\n",
      "Requirement already satisfied: orjson>=3.9.12 in /Users/sebastian/dev/tt/conf/basta-2024-rag/.conda/lib/python3.9/site-packages (from chromadb) (3.10.7)\n",
      "Requirement already satisfied: httpx>=0.27.0 in /Users/sebastian/dev/tt/conf/basta-2024-rag/.conda/lib/python3.9/site-packages (from chromadb) (0.27.2)\n",
      "Requirement already satisfied: packaging>=19.1 in /Users/sebastian/dev/tt/conf/basta-2024-rag/.conda/lib/python3.9/site-packages (from build>=1.0.3->chromadb) (24.1)\n",
      "Requirement already satisfied: pyproject_hooks in /Users/sebastian/dev/tt/conf/basta-2024-rag/.conda/lib/python3.9/site-packages (from build>=1.0.3->chromadb) (1.1.0)\n",
      "Requirement already satisfied: importlib-metadata>=4.6 in /Users/sebastian/dev/tt/conf/basta-2024-rag/.conda/lib/python3.9/site-packages (from build>=1.0.3->chromadb) (8.4.0)\n",
      "Requirement already satisfied: tomli>=1.1.0 in /Users/sebastian/dev/tt/conf/basta-2024-rag/.conda/lib/python3.9/site-packages (from build>=1.0.3->chromadb) (2.0.1)\n",
      "Requirement already satisfied: starlette<0.39.0,>=0.37.2 in /Users/sebastian/dev/tt/conf/basta-2024-rag/.conda/lib/python3.9/site-packages (from fastapi>=0.95.2->chromadb) (0.38.5)\n",
      "Requirement already satisfied: anyio in /Users/sebastian/dev/tt/conf/basta-2024-rag/.conda/lib/python3.9/site-packages (from httpx>=0.27.0->chromadb) (4.4.0)\n",
      "Requirement already satisfied: certifi in /Users/sebastian/dev/tt/conf/basta-2024-rag/.conda/lib/python3.9/site-packages (from httpx>=0.27.0->chromadb) (2024.8.30)\n",
      "Requirement already satisfied: httpcore==1.* in /Users/sebastian/dev/tt/conf/basta-2024-rag/.conda/lib/python3.9/site-packages (from httpx>=0.27.0->chromadb) (1.0.5)\n",
      "Requirement already satisfied: idna in /Users/sebastian/dev/tt/conf/basta-2024-rag/.conda/lib/python3.9/site-packages (from httpx>=0.27.0->chromadb) (3.10)\n",
      "Requirement already satisfied: sniffio in /Users/sebastian/dev/tt/conf/basta-2024-rag/.conda/lib/python3.9/site-packages (from httpx>=0.27.0->chromadb) (1.3.1)\n",
      "Requirement already satisfied: h11<0.15,>=0.13 in /Users/sebastian/dev/tt/conf/basta-2024-rag/.conda/lib/python3.9/site-packages (from httpcore==1.*->httpx>=0.27.0->chromadb) (0.14.0)\n",
      "Requirement already satisfied: six>=1.9.0 in /Users/sebastian/dev/tt/conf/basta-2024-rag/.conda/lib/python3.9/site-packages (from kubernetes>=28.1.0->chromadb) (1.16.0)\n",
      "Requirement already satisfied: python-dateutil>=2.5.3 in /Users/sebastian/dev/tt/conf/basta-2024-rag/.conda/lib/python3.9/site-packages (from kubernetes>=28.1.0->chromadb) (2.9.0)\n",
      "Requirement already satisfied: google-auth>=1.0.1 in /Users/sebastian/dev/tt/conf/basta-2024-rag/.conda/lib/python3.9/site-packages (from kubernetes>=28.1.0->chromadb) (2.34.0)\n",
      "Requirement already satisfied: websocket-client!=0.40.0,!=0.41.*,!=0.42.*,>=0.32.0 in /Users/sebastian/dev/tt/conf/basta-2024-rag/.conda/lib/python3.9/site-packages (from kubernetes>=28.1.0->chromadb) (1.8.0)\n",
      "Requirement already satisfied: requests-oauthlib in /Users/sebastian/dev/tt/conf/basta-2024-rag/.conda/lib/python3.9/site-packages (from kubernetes>=28.1.0->chromadb) (2.0.0)\n",
      "Requirement already satisfied: oauthlib>=3.2.2 in /Users/sebastian/dev/tt/conf/basta-2024-rag/.conda/lib/python3.9/site-packages (from kubernetes>=28.1.0->chromadb) (3.2.2)\n",
      "Requirement already satisfied: urllib3>=1.24.2 in /Users/sebastian/dev/tt/conf/basta-2024-rag/.conda/lib/python3.9/site-packages (from kubernetes>=28.1.0->chromadb) (2.2.3)\n",
      "Requirement already satisfied: coloredlogs in /Users/sebastian/dev/tt/conf/basta-2024-rag/.conda/lib/python3.9/site-packages (from onnxruntime>=1.14.1->chromadb) (15.0.1)\n",
      "Requirement already satisfied: flatbuffers in /Users/sebastian/dev/tt/conf/basta-2024-rag/.conda/lib/python3.9/site-packages (from onnxruntime>=1.14.1->chromadb) (24.3.25)\n",
      "Requirement already satisfied: protobuf in /Users/sebastian/dev/tt/conf/basta-2024-rag/.conda/lib/python3.9/site-packages (from onnxruntime>=1.14.1->chromadb) (5.28.1)\n",
      "Requirement already satisfied: sympy in /Users/sebastian/dev/tt/conf/basta-2024-rag/.conda/lib/python3.9/site-packages (from onnxruntime>=1.14.1->chromadb) (1.13.2)\n",
      "Requirement already satisfied: deprecated>=1.2.6 in /Users/sebastian/dev/tt/conf/basta-2024-rag/.conda/lib/python3.9/site-packages (from opentelemetry-api>=1.2.0->chromadb) (1.2.14)\n",
      "Requirement already satisfied: googleapis-common-protos~=1.52 in /Users/sebastian/dev/tt/conf/basta-2024-rag/.conda/lib/python3.9/site-packages (from opentelemetry-exporter-otlp-proto-grpc>=1.2.0->chromadb) (1.65.0)\n",
      "Requirement already satisfied: opentelemetry-exporter-otlp-proto-common==1.27.0 in /Users/sebastian/dev/tt/conf/basta-2024-rag/.conda/lib/python3.9/site-packages (from opentelemetry-exporter-otlp-proto-grpc>=1.2.0->chromadb) (1.27.0)\n",
      "Requirement already satisfied: opentelemetry-proto==1.27.0 in /Users/sebastian/dev/tt/conf/basta-2024-rag/.conda/lib/python3.9/site-packages (from opentelemetry-exporter-otlp-proto-grpc>=1.2.0->chromadb) (1.27.0)\n",
      "Collecting protobuf (from onnxruntime>=1.14.1->chromadb)\n",
      "  Using cached protobuf-4.25.4-cp37-abi3-macosx_10_9_universal2.whl.metadata (541 bytes)\n",
      "Requirement already satisfied: opentelemetry-instrumentation-asgi==0.48b0 in /Users/sebastian/dev/tt/conf/basta-2024-rag/.conda/lib/python3.9/site-packages (from opentelemetry-instrumentation-fastapi>=0.41b0->chromadb) (0.48b0)\n",
      "Requirement already satisfied: opentelemetry-instrumentation==0.48b0 in /Users/sebastian/dev/tt/conf/basta-2024-rag/.conda/lib/python3.9/site-packages (from opentelemetry-instrumentation-fastapi>=0.41b0->chromadb) (0.48b0)\n",
      "Requirement already satisfied: opentelemetry-semantic-conventions==0.48b0 in /Users/sebastian/dev/tt/conf/basta-2024-rag/.conda/lib/python3.9/site-packages (from opentelemetry-instrumentation-fastapi>=0.41b0->chromadb) (0.48b0)\n",
      "Requirement already satisfied: opentelemetry-util-http==0.48b0 in /Users/sebastian/dev/tt/conf/basta-2024-rag/.conda/lib/python3.9/site-packages (from opentelemetry-instrumentation-fastapi>=0.41b0->chromadb) (0.48b0)\n",
      "Requirement already satisfied: setuptools>=16.0 in /Users/sebastian/dev/tt/conf/basta-2024-rag/.conda/lib/python3.9/site-packages (from opentelemetry-instrumentation==0.48b0->opentelemetry-instrumentation-fastapi>=0.41b0->chromadb) (72.1.0)\n",
      "Requirement already satisfied: wrapt<2.0.0,>=1.0.0 in /Users/sebastian/dev/tt/conf/basta-2024-rag/.conda/lib/python3.9/site-packages (from opentelemetry-instrumentation==0.48b0->opentelemetry-instrumentation-fastapi>=0.41b0->chromadb) (1.16.0)\n",
      "Requirement already satisfied: asgiref~=3.0 in /Users/sebastian/dev/tt/conf/basta-2024-rag/.conda/lib/python3.9/site-packages (from opentelemetry-instrumentation-asgi==0.48b0->opentelemetry-instrumentation-fastapi>=0.41b0->chromadb) (3.8.1)\n",
      "Requirement already satisfied: monotonic>=1.5 in /Users/sebastian/dev/tt/conf/basta-2024-rag/.conda/lib/python3.9/site-packages (from posthog>=2.4.0->chromadb) (1.6)\n",
      "Requirement already satisfied: backoff>=1.10.0 in /Users/sebastian/dev/tt/conf/basta-2024-rag/.conda/lib/python3.9/site-packages (from posthog>=2.4.0->chromadb) (2.2.1)\n",
      "Requirement already satisfied: annotated-types>=0.6.0 in /Users/sebastian/dev/tt/conf/basta-2024-rag/.conda/lib/python3.9/site-packages (from pydantic>=1.9->chromadb) (0.7.0)\n",
      "Requirement already satisfied: pydantic-core==2.23.3 in /Users/sebastian/dev/tt/conf/basta-2024-rag/.conda/lib/python3.9/site-packages (from pydantic>=1.9->chromadb) (2.23.3)\n",
      "Requirement already satisfied: charset-normalizer<4,>=2 in /Users/sebastian/dev/tt/conf/basta-2024-rag/.conda/lib/python3.9/site-packages (from requests>=2.28->chromadb) (3.3.2)\n",
      "Requirement already satisfied: huggingface-hub<1.0,>=0.16.4 in /Users/sebastian/dev/tt/conf/basta-2024-rag/.conda/lib/python3.9/site-packages (from tokenizers>=0.13.2->chromadb) (0.24.7)\n",
      "Requirement already satisfied: click>=8.0.0 in /Users/sebastian/dev/tt/conf/basta-2024-rag/.conda/lib/python3.9/site-packages (from typer>=0.9.0->chromadb) (8.1.7)\n",
      "Requirement already satisfied: shellingham>=1.3.0 in /Users/sebastian/dev/tt/conf/basta-2024-rag/.conda/lib/python3.9/site-packages (from typer>=0.9.0->chromadb) (1.5.4)\n",
      "Requirement already satisfied: rich>=10.11.0 in /Users/sebastian/dev/tt/conf/basta-2024-rag/.conda/lib/python3.9/site-packages (from typer>=0.9.0->chromadb) (13.8.1)\n",
      "Requirement already satisfied: httptools>=0.5.0 in /Users/sebastian/dev/tt/conf/basta-2024-rag/.conda/lib/python3.9/site-packages (from uvicorn[standard]>=0.18.3->chromadb) (0.6.1)\n",
      "Requirement already satisfied: python-dotenv>=0.13 in /Users/sebastian/dev/tt/conf/basta-2024-rag/.conda/lib/python3.9/site-packages (from uvicorn[standard]>=0.18.3->chromadb) (1.0.1)\n",
      "Requirement already satisfied: uvloop!=0.15.0,!=0.15.1,>=0.14.0 in /Users/sebastian/dev/tt/conf/basta-2024-rag/.conda/lib/python3.9/site-packages (from uvicorn[standard]>=0.18.3->chromadb) (0.20.0)\n",
      "Requirement already satisfied: watchfiles>=0.13 in /Users/sebastian/dev/tt/conf/basta-2024-rag/.conda/lib/python3.9/site-packages (from uvicorn[standard]>=0.18.3->chromadb) (0.24.0)\n",
      "Requirement already satisfied: websockets>=10.4 in /Users/sebastian/dev/tt/conf/basta-2024-rag/.conda/lib/python3.9/site-packages (from uvicorn[standard]>=0.18.3->chromadb) (13.0.1)\n",
      "Requirement already satisfied: zipp>=3.1.0 in /Users/sebastian/dev/tt/conf/basta-2024-rag/.conda/lib/python3.9/site-packages (from importlib-resources->chromadb) (3.20.2)\n",
      "Requirement already satisfied: cachetools<6.0,>=2.0.0 in /Users/sebastian/dev/tt/conf/basta-2024-rag/.conda/lib/python3.9/site-packages (from google-auth>=1.0.1->kubernetes>=28.1.0->chromadb) (5.5.0)\n",
      "Requirement already satisfied: pyasn1-modules>=0.2.1 in /Users/sebastian/dev/tt/conf/basta-2024-rag/.conda/lib/python3.9/site-packages (from google-auth>=1.0.1->kubernetes>=28.1.0->chromadb) (0.4.1)\n",
      "Requirement already satisfied: rsa<5,>=3.1.4 in /Users/sebastian/dev/tt/conf/basta-2024-rag/.conda/lib/python3.9/site-packages (from google-auth>=1.0.1->kubernetes>=28.1.0->chromadb) (4.9)\n",
      "Requirement already satisfied: filelock in /Users/sebastian/dev/tt/conf/basta-2024-rag/.conda/lib/python3.9/site-packages (from huggingface-hub<1.0,>=0.16.4->tokenizers>=0.13.2->chromadb) (3.16.0)\n",
      "Requirement already satisfied: fsspec>=2023.5.0 in /Users/sebastian/dev/tt/conf/basta-2024-rag/.conda/lib/python3.9/site-packages (from huggingface-hub<1.0,>=0.16.4->tokenizers>=0.13.2->chromadb) (2024.9.0)\n",
      "Requirement already satisfied: markdown-it-py>=2.2.0 in /Users/sebastian/dev/tt/conf/basta-2024-rag/.conda/lib/python3.9/site-packages (from rich>=10.11.0->typer>=0.9.0->chromadb) (3.0.0)\n",
      "Requirement already satisfied: pygments<3.0.0,>=2.13.0 in /Users/sebastian/dev/tt/conf/basta-2024-rag/.conda/lib/python3.9/site-packages (from rich>=10.11.0->typer>=0.9.0->chromadb) (2.18.0)\n",
      "Requirement already satisfied: exceptiongroup>=1.0.2 in /Users/sebastian/dev/tt/conf/basta-2024-rag/.conda/lib/python3.9/site-packages (from anyio->httpx>=0.27.0->chromadb) (1.2.2)\n",
      "Requirement already satisfied: humanfriendly>=9.1 in /Users/sebastian/dev/tt/conf/basta-2024-rag/.conda/lib/python3.9/site-packages (from coloredlogs->onnxruntime>=1.14.1->chromadb) (10.0)\n",
      "Requirement already satisfied: mpmath<1.4,>=1.1.0 in /Users/sebastian/dev/tt/conf/basta-2024-rag/.conda/lib/python3.9/site-packages (from sympy->onnxruntime>=1.14.1->chromadb) (1.3.0)\n",
      "Requirement already satisfied: mdurl~=0.1 in /Users/sebastian/dev/tt/conf/basta-2024-rag/.conda/lib/python3.9/site-packages (from markdown-it-py>=2.2.0->rich>=10.11.0->typer>=0.9.0->chromadb) (0.1.2)\n",
      "Requirement already satisfied: pyasn1<0.7.0,>=0.4.6 in /Users/sebastian/dev/tt/conf/basta-2024-rag/.conda/lib/python3.9/site-packages (from pyasn1-modules>=0.2.1->google-auth>=1.0.1->kubernetes>=28.1.0->chromadb) (0.6.1)\n",
      "Using cached protobuf-4.25.4-cp37-abi3-macosx_10_9_universal2.whl (394 kB)\n",
      "Installing collected packages: protobuf\n",
      "  Attempting uninstall: protobuf\n",
      "    Found existing installation: protobuf 5.28.1\n",
      "    Uninstalling protobuf-5.28.1:\n",
      "      Successfully uninstalled protobuf-5.28.1\n",
      "\u001b[31mERROR: pip's dependency resolver does not currently take into account all the packages that are installed. This behaviour is the source of the following dependency conflicts.\n",
      "grpcio-tools 1.66.1 requires protobuf<6.0dev,>=5.26.1, but you have protobuf 4.25.4 which is incompatible.\u001b[0m\u001b[31m\n",
      "\u001b[0mSuccessfully installed protobuf-4.25.4\n",
      "Note: you may need to restart the kernel to use updated packages.\n",
      "Requirement already satisfied: langchain in /Users/sebastian/dev/tt/conf/basta-2024-rag/.conda/lib/python3.9/site-packages (0.3.0)\n",
      "Requirement already satisfied: PyYAML>=5.3 in /Users/sebastian/dev/tt/conf/basta-2024-rag/.conda/lib/python3.9/site-packages (from langchain) (6.0.2)\n",
      "Requirement already satisfied: SQLAlchemy<3,>=1.4 in /Users/sebastian/dev/tt/conf/basta-2024-rag/.conda/lib/python3.9/site-packages (from langchain) (2.0.35)\n",
      "Requirement already satisfied: aiohttp<4.0.0,>=3.8.3 in /Users/sebastian/dev/tt/conf/basta-2024-rag/.conda/lib/python3.9/site-packages (from langchain) (3.10.5)\n",
      "Requirement already satisfied: async-timeout<5.0.0,>=4.0.0 in /Users/sebastian/dev/tt/conf/basta-2024-rag/.conda/lib/python3.9/site-packages (from langchain) (4.0.3)\n",
      "Requirement already satisfied: langchain-core<0.4.0,>=0.3.0 in /Users/sebastian/dev/tt/conf/basta-2024-rag/.conda/lib/python3.9/site-packages (from langchain) (0.3.0)\n",
      "Requirement already satisfied: langchain-text-splitters<0.4.0,>=0.3.0 in /Users/sebastian/dev/tt/conf/basta-2024-rag/.conda/lib/python3.9/site-packages (from langchain) (0.3.0)\n",
      "Requirement already satisfied: langsmith<0.2.0,>=0.1.17 in /Users/sebastian/dev/tt/conf/basta-2024-rag/.conda/lib/python3.9/site-packages (from langchain) (0.1.121)\n",
      "Requirement already satisfied: numpy<2,>=1 in /Users/sebastian/dev/tt/conf/basta-2024-rag/.conda/lib/python3.9/site-packages (from langchain) (1.26.4)\n",
      "Requirement already satisfied: pydantic<3.0.0,>=2.7.4 in /Users/sebastian/dev/tt/conf/basta-2024-rag/.conda/lib/python3.9/site-packages (from langchain) (2.9.1)\n",
      "Requirement already satisfied: requests<3,>=2 in /Users/sebastian/dev/tt/conf/basta-2024-rag/.conda/lib/python3.9/site-packages (from langchain) (2.32.3)\n",
      "Requirement already satisfied: tenacity!=8.4.0,<9.0.0,>=8.1.0 in /Users/sebastian/dev/tt/conf/basta-2024-rag/.conda/lib/python3.9/site-packages (from langchain) (8.5.0)\n",
      "Requirement already satisfied: aiohappyeyeballs>=2.3.0 in /Users/sebastian/dev/tt/conf/basta-2024-rag/.conda/lib/python3.9/site-packages (from aiohttp<4.0.0,>=3.8.3->langchain) (2.4.0)\n",
      "Requirement already satisfied: aiosignal>=1.1.2 in /Users/sebastian/dev/tt/conf/basta-2024-rag/.conda/lib/python3.9/site-packages (from aiohttp<4.0.0,>=3.8.3->langchain) (1.3.1)\n",
      "Requirement already satisfied: attrs>=17.3.0 in /Users/sebastian/dev/tt/conf/basta-2024-rag/.conda/lib/python3.9/site-packages (from aiohttp<4.0.0,>=3.8.3->langchain) (24.2.0)\n",
      "Requirement already satisfied: frozenlist>=1.1.1 in /Users/sebastian/dev/tt/conf/basta-2024-rag/.conda/lib/python3.9/site-packages (from aiohttp<4.0.0,>=3.8.3->langchain) (1.4.1)\n",
      "Requirement already satisfied: multidict<7.0,>=4.5 in /Users/sebastian/dev/tt/conf/basta-2024-rag/.conda/lib/python3.9/site-packages (from aiohttp<4.0.0,>=3.8.3->langchain) (6.1.0)\n",
      "Requirement already satisfied: yarl<2.0,>=1.0 in /Users/sebastian/dev/tt/conf/basta-2024-rag/.conda/lib/python3.9/site-packages (from aiohttp<4.0.0,>=3.8.3->langchain) (1.11.1)\n",
      "Requirement already satisfied: jsonpatch<2.0,>=1.33 in /Users/sebastian/dev/tt/conf/basta-2024-rag/.conda/lib/python3.9/site-packages (from langchain-core<0.4.0,>=0.3.0->langchain) (1.33)\n",
      "Requirement already satisfied: packaging<25,>=23.2 in /Users/sebastian/dev/tt/conf/basta-2024-rag/.conda/lib/python3.9/site-packages (from langchain-core<0.4.0,>=0.3.0->langchain) (24.1)\n",
      "Requirement already satisfied: typing-extensions>=4.7 in /Users/sebastian/dev/tt/conf/basta-2024-rag/.conda/lib/python3.9/site-packages (from langchain-core<0.4.0,>=0.3.0->langchain) (4.12.2)\n",
      "Requirement already satisfied: httpx<1,>=0.23.0 in /Users/sebastian/dev/tt/conf/basta-2024-rag/.conda/lib/python3.9/site-packages (from langsmith<0.2.0,>=0.1.17->langchain) (0.27.2)\n",
      "Requirement already satisfied: orjson<4.0.0,>=3.9.14 in /Users/sebastian/dev/tt/conf/basta-2024-rag/.conda/lib/python3.9/site-packages (from langsmith<0.2.0,>=0.1.17->langchain) (3.10.7)\n",
      "Requirement already satisfied: annotated-types>=0.6.0 in /Users/sebastian/dev/tt/conf/basta-2024-rag/.conda/lib/python3.9/site-packages (from pydantic<3.0.0,>=2.7.4->langchain) (0.7.0)\n",
      "Requirement already satisfied: pydantic-core==2.23.3 in /Users/sebastian/dev/tt/conf/basta-2024-rag/.conda/lib/python3.9/site-packages (from pydantic<3.0.0,>=2.7.4->langchain) (2.23.3)\n",
      "Requirement already satisfied: charset-normalizer<4,>=2 in /Users/sebastian/dev/tt/conf/basta-2024-rag/.conda/lib/python3.9/site-packages (from requests<3,>=2->langchain) (3.3.2)\n",
      "Requirement already satisfied: idna<4,>=2.5 in /Users/sebastian/dev/tt/conf/basta-2024-rag/.conda/lib/python3.9/site-packages (from requests<3,>=2->langchain) (3.10)\n",
      "Requirement already satisfied: urllib3<3,>=1.21.1 in /Users/sebastian/dev/tt/conf/basta-2024-rag/.conda/lib/python3.9/site-packages (from requests<3,>=2->langchain) (2.2.3)\n",
      "Requirement already satisfied: certifi>=2017.4.17 in /Users/sebastian/dev/tt/conf/basta-2024-rag/.conda/lib/python3.9/site-packages (from requests<3,>=2->langchain) (2024.8.30)\n",
      "Requirement already satisfied: anyio in /Users/sebastian/dev/tt/conf/basta-2024-rag/.conda/lib/python3.9/site-packages (from httpx<1,>=0.23.0->langsmith<0.2.0,>=0.1.17->langchain) (4.4.0)\n",
      "Requirement already satisfied: httpcore==1.* in /Users/sebastian/dev/tt/conf/basta-2024-rag/.conda/lib/python3.9/site-packages (from httpx<1,>=0.23.0->langsmith<0.2.0,>=0.1.17->langchain) (1.0.5)\n",
      "Requirement already satisfied: sniffio in /Users/sebastian/dev/tt/conf/basta-2024-rag/.conda/lib/python3.9/site-packages (from httpx<1,>=0.23.0->langsmith<0.2.0,>=0.1.17->langchain) (1.3.1)\n",
      "Requirement already satisfied: h11<0.15,>=0.13 in /Users/sebastian/dev/tt/conf/basta-2024-rag/.conda/lib/python3.9/site-packages (from httpcore==1.*->httpx<1,>=0.23.0->langsmith<0.2.0,>=0.1.17->langchain) (0.14.0)\n",
      "Requirement already satisfied: jsonpointer>=1.9 in /Users/sebastian/dev/tt/conf/basta-2024-rag/.conda/lib/python3.9/site-packages (from jsonpatch<2.0,>=1.33->langchain-core<0.4.0,>=0.3.0->langchain) (3.0.0)\n",
      "Requirement already satisfied: exceptiongroup>=1.0.2 in /Users/sebastian/dev/tt/conf/basta-2024-rag/.conda/lib/python3.9/site-packages (from anyio->httpx<1,>=0.23.0->langsmith<0.2.0,>=0.1.17->langchain) (1.2.2)\n",
      "Note: you may need to restart the kernel to use updated packages.\n",
      "Requirement already satisfied: langchain-community in /Users/sebastian/dev/tt/conf/basta-2024-rag/.conda/lib/python3.9/site-packages (0.3.0)\n",
      "Requirement already satisfied: PyYAML>=5.3 in /Users/sebastian/dev/tt/conf/basta-2024-rag/.conda/lib/python3.9/site-packages (from langchain-community) (6.0.2)\n",
      "Requirement already satisfied: SQLAlchemy<3,>=1.4 in /Users/sebastian/dev/tt/conf/basta-2024-rag/.conda/lib/python3.9/site-packages (from langchain-community) (2.0.35)\n",
      "Requirement already satisfied: aiohttp<4.0.0,>=3.8.3 in /Users/sebastian/dev/tt/conf/basta-2024-rag/.conda/lib/python3.9/site-packages (from langchain-community) (3.10.5)\n",
      "Requirement already satisfied: dataclasses-json<0.7,>=0.5.7 in /Users/sebastian/dev/tt/conf/basta-2024-rag/.conda/lib/python3.9/site-packages (from langchain-community) (0.6.7)\n",
      "Requirement already satisfied: langchain<0.4.0,>=0.3.0 in /Users/sebastian/dev/tt/conf/basta-2024-rag/.conda/lib/python3.9/site-packages (from langchain-community) (0.3.0)\n",
      "Requirement already satisfied: langchain-core<0.4.0,>=0.3.0 in /Users/sebastian/dev/tt/conf/basta-2024-rag/.conda/lib/python3.9/site-packages (from langchain-community) (0.3.0)\n",
      "Requirement already satisfied: langsmith<0.2.0,>=0.1.112 in /Users/sebastian/dev/tt/conf/basta-2024-rag/.conda/lib/python3.9/site-packages (from langchain-community) (0.1.121)\n",
      "Requirement already satisfied: numpy<2,>=1 in /Users/sebastian/dev/tt/conf/basta-2024-rag/.conda/lib/python3.9/site-packages (from langchain-community) (1.26.4)\n",
      "Requirement already satisfied: pydantic-settings<3.0.0,>=2.4.0 in /Users/sebastian/dev/tt/conf/basta-2024-rag/.conda/lib/python3.9/site-packages (from langchain-community) (2.5.2)\n",
      "Requirement already satisfied: requests<3,>=2 in /Users/sebastian/dev/tt/conf/basta-2024-rag/.conda/lib/python3.9/site-packages (from langchain-community) (2.32.3)\n",
      "Requirement already satisfied: tenacity!=8.4.0,<9.0.0,>=8.1.0 in /Users/sebastian/dev/tt/conf/basta-2024-rag/.conda/lib/python3.9/site-packages (from langchain-community) (8.5.0)\n",
      "Requirement already satisfied: aiohappyeyeballs>=2.3.0 in /Users/sebastian/dev/tt/conf/basta-2024-rag/.conda/lib/python3.9/site-packages (from aiohttp<4.0.0,>=3.8.3->langchain-community) (2.4.0)\n",
      "Requirement already satisfied: aiosignal>=1.1.2 in /Users/sebastian/dev/tt/conf/basta-2024-rag/.conda/lib/python3.9/site-packages (from aiohttp<4.0.0,>=3.8.3->langchain-community) (1.3.1)\n",
      "Requirement already satisfied: attrs>=17.3.0 in /Users/sebastian/dev/tt/conf/basta-2024-rag/.conda/lib/python3.9/site-packages (from aiohttp<4.0.0,>=3.8.3->langchain-community) (24.2.0)\n",
      "Requirement already satisfied: frozenlist>=1.1.1 in /Users/sebastian/dev/tt/conf/basta-2024-rag/.conda/lib/python3.9/site-packages (from aiohttp<4.0.0,>=3.8.3->langchain-community) (1.4.1)\n",
      "Requirement already satisfied: multidict<7.0,>=4.5 in /Users/sebastian/dev/tt/conf/basta-2024-rag/.conda/lib/python3.9/site-packages (from aiohttp<4.0.0,>=3.8.3->langchain-community) (6.1.0)\n",
      "Requirement already satisfied: yarl<2.0,>=1.0 in /Users/sebastian/dev/tt/conf/basta-2024-rag/.conda/lib/python3.9/site-packages (from aiohttp<4.0.0,>=3.8.3->langchain-community) (1.11.1)\n",
      "Requirement already satisfied: async-timeout<5.0,>=4.0 in /Users/sebastian/dev/tt/conf/basta-2024-rag/.conda/lib/python3.9/site-packages (from aiohttp<4.0.0,>=3.8.3->langchain-community) (4.0.3)\n",
      "Requirement already satisfied: marshmallow<4.0.0,>=3.18.0 in /Users/sebastian/dev/tt/conf/basta-2024-rag/.conda/lib/python3.9/site-packages (from dataclasses-json<0.7,>=0.5.7->langchain-community) (3.22.0)\n",
      "Requirement already satisfied: typing-inspect<1,>=0.4.0 in /Users/sebastian/dev/tt/conf/basta-2024-rag/.conda/lib/python3.9/site-packages (from dataclasses-json<0.7,>=0.5.7->langchain-community) (0.9.0)\n",
      "Requirement already satisfied: langchain-text-splitters<0.4.0,>=0.3.0 in /Users/sebastian/dev/tt/conf/basta-2024-rag/.conda/lib/python3.9/site-packages (from langchain<0.4.0,>=0.3.0->langchain-community) (0.3.0)\n",
      "Requirement already satisfied: pydantic<3.0.0,>=2.7.4 in /Users/sebastian/dev/tt/conf/basta-2024-rag/.conda/lib/python3.9/site-packages (from langchain<0.4.0,>=0.3.0->langchain-community) (2.9.1)\n",
      "Requirement already satisfied: jsonpatch<2.0,>=1.33 in /Users/sebastian/dev/tt/conf/basta-2024-rag/.conda/lib/python3.9/site-packages (from langchain-core<0.4.0,>=0.3.0->langchain-community) (1.33)\n",
      "Requirement already satisfied: packaging<25,>=23.2 in /Users/sebastian/dev/tt/conf/basta-2024-rag/.conda/lib/python3.9/site-packages (from langchain-core<0.4.0,>=0.3.0->langchain-community) (24.1)\n",
      "Requirement already satisfied: typing-extensions>=4.7 in /Users/sebastian/dev/tt/conf/basta-2024-rag/.conda/lib/python3.9/site-packages (from langchain-core<0.4.0,>=0.3.0->langchain-community) (4.12.2)\n",
      "Requirement already satisfied: httpx<1,>=0.23.0 in /Users/sebastian/dev/tt/conf/basta-2024-rag/.conda/lib/python3.9/site-packages (from langsmith<0.2.0,>=0.1.112->langchain-community) (0.27.2)\n",
      "Requirement already satisfied: orjson<4.0.0,>=3.9.14 in /Users/sebastian/dev/tt/conf/basta-2024-rag/.conda/lib/python3.9/site-packages (from langsmith<0.2.0,>=0.1.112->langchain-community) (3.10.7)\n",
      "Requirement already satisfied: python-dotenv>=0.21.0 in /Users/sebastian/dev/tt/conf/basta-2024-rag/.conda/lib/python3.9/site-packages (from pydantic-settings<3.0.0,>=2.4.0->langchain-community) (1.0.1)\n",
      "Requirement already satisfied: charset-normalizer<4,>=2 in /Users/sebastian/dev/tt/conf/basta-2024-rag/.conda/lib/python3.9/site-packages (from requests<3,>=2->langchain-community) (3.3.2)\n",
      "Requirement already satisfied: idna<4,>=2.5 in /Users/sebastian/dev/tt/conf/basta-2024-rag/.conda/lib/python3.9/site-packages (from requests<3,>=2->langchain-community) (3.10)\n",
      "Requirement already satisfied: urllib3<3,>=1.21.1 in /Users/sebastian/dev/tt/conf/basta-2024-rag/.conda/lib/python3.9/site-packages (from requests<3,>=2->langchain-community) (2.2.3)\n",
      "Requirement already satisfied: certifi>=2017.4.17 in /Users/sebastian/dev/tt/conf/basta-2024-rag/.conda/lib/python3.9/site-packages (from requests<3,>=2->langchain-community) (2024.8.30)\n",
      "Requirement already satisfied: anyio in /Users/sebastian/dev/tt/conf/basta-2024-rag/.conda/lib/python3.9/site-packages (from httpx<1,>=0.23.0->langsmith<0.2.0,>=0.1.112->langchain-community) (4.4.0)\n",
      "Requirement already satisfied: httpcore==1.* in /Users/sebastian/dev/tt/conf/basta-2024-rag/.conda/lib/python3.9/site-packages (from httpx<1,>=0.23.0->langsmith<0.2.0,>=0.1.112->langchain-community) (1.0.5)\n",
      "Requirement already satisfied: sniffio in /Users/sebastian/dev/tt/conf/basta-2024-rag/.conda/lib/python3.9/site-packages (from httpx<1,>=0.23.0->langsmith<0.2.0,>=0.1.112->langchain-community) (1.3.1)\n",
      "Requirement already satisfied: h11<0.15,>=0.13 in /Users/sebastian/dev/tt/conf/basta-2024-rag/.conda/lib/python3.9/site-packages (from httpcore==1.*->httpx<1,>=0.23.0->langsmith<0.2.0,>=0.1.112->langchain-community) (0.14.0)\n",
      "Requirement already satisfied: jsonpointer>=1.9 in /Users/sebastian/dev/tt/conf/basta-2024-rag/.conda/lib/python3.9/site-packages (from jsonpatch<2.0,>=1.33->langchain-core<0.4.0,>=0.3.0->langchain-community) (3.0.0)\n",
      "Requirement already satisfied: annotated-types>=0.6.0 in /Users/sebastian/dev/tt/conf/basta-2024-rag/.conda/lib/python3.9/site-packages (from pydantic<3.0.0,>=2.7.4->langchain<0.4.0,>=0.3.0->langchain-community) (0.7.0)\n",
      "Requirement already satisfied: pydantic-core==2.23.3 in /Users/sebastian/dev/tt/conf/basta-2024-rag/.conda/lib/python3.9/site-packages (from pydantic<3.0.0,>=2.7.4->langchain<0.4.0,>=0.3.0->langchain-community) (2.23.3)\n",
      "Requirement already satisfied: mypy-extensions>=0.3.0 in /Users/sebastian/dev/tt/conf/basta-2024-rag/.conda/lib/python3.9/site-packages (from typing-inspect<1,>=0.4.0->dataclasses-json<0.7,>=0.5.7->langchain-community) (1.0.0)\n",
      "Requirement already satisfied: exceptiongroup>=1.0.2 in /Users/sebastian/dev/tt/conf/basta-2024-rag/.conda/lib/python3.9/site-packages (from anyio->httpx<1,>=0.23.0->langsmith<0.2.0,>=0.1.112->langchain-community) (1.2.2)\n",
      "Note: you may need to restart the kernel to use updated packages.\n",
      "Requirement already satisfied: langchain-chroma in /Users/sebastian/dev/tt/conf/basta-2024-rag/.conda/lib/python3.9/site-packages (0.1.4)\n",
      "Requirement already satisfied: chromadb!=0.5.4,!=0.5.5,<0.6.0,>=0.4.0 in /Users/sebastian/dev/tt/conf/basta-2024-rag/.conda/lib/python3.9/site-packages (from langchain-chroma) (0.5.3)\n",
      "Requirement already satisfied: fastapi<1,>=0.95.2 in /Users/sebastian/dev/tt/conf/basta-2024-rag/.conda/lib/python3.9/site-packages (from langchain-chroma) (0.114.2)\n",
      "Requirement already satisfied: langchain-core<0.4,>=0.1.40 in /Users/sebastian/dev/tt/conf/basta-2024-rag/.conda/lib/python3.9/site-packages (from langchain-chroma) (0.3.0)\n",
      "Requirement already satisfied: numpy<2,>=1 in /Users/sebastian/dev/tt/conf/basta-2024-rag/.conda/lib/python3.9/site-packages (from langchain-chroma) (1.26.4)\n",
      "Requirement already satisfied: build>=1.0.3 in /Users/sebastian/dev/tt/conf/basta-2024-rag/.conda/lib/python3.9/site-packages (from chromadb!=0.5.4,!=0.5.5,<0.6.0,>=0.4.0->langchain-chroma) (1.2.2)\n",
      "Requirement already satisfied: requests>=2.28 in /Users/sebastian/dev/tt/conf/basta-2024-rag/.conda/lib/python3.9/site-packages (from chromadb!=0.5.4,!=0.5.5,<0.6.0,>=0.4.0->langchain-chroma) (2.32.3)\n",
      "Requirement already satisfied: pydantic>=1.9 in /Users/sebastian/dev/tt/conf/basta-2024-rag/.conda/lib/python3.9/site-packages (from chromadb!=0.5.4,!=0.5.5,<0.6.0,>=0.4.0->langchain-chroma) (2.9.1)\n",
      "Requirement already satisfied: chroma-hnswlib==0.7.3 in /Users/sebastian/dev/tt/conf/basta-2024-rag/.conda/lib/python3.9/site-packages (from chromadb!=0.5.4,!=0.5.5,<0.6.0,>=0.4.0->langchain-chroma) (0.7.3)\n",
      "Requirement already satisfied: uvicorn>=0.18.3 in /Users/sebastian/dev/tt/conf/basta-2024-rag/.conda/lib/python3.9/site-packages (from uvicorn[standard]>=0.18.3->chromadb!=0.5.4,!=0.5.5,<0.6.0,>=0.4.0->langchain-chroma) (0.30.6)\n",
      "Requirement already satisfied: posthog>=2.4.0 in /Users/sebastian/dev/tt/conf/basta-2024-rag/.conda/lib/python3.9/site-packages (from chromadb!=0.5.4,!=0.5.5,<0.6.0,>=0.4.0->langchain-chroma) (3.6.6)\n",
      "Requirement already satisfied: typing-extensions>=4.5.0 in /Users/sebastian/dev/tt/conf/basta-2024-rag/.conda/lib/python3.9/site-packages (from chromadb!=0.5.4,!=0.5.5,<0.6.0,>=0.4.0->langchain-chroma) (4.12.2)\n",
      "Requirement already satisfied: onnxruntime>=1.14.1 in /Users/sebastian/dev/tt/conf/basta-2024-rag/.conda/lib/python3.9/site-packages (from chromadb!=0.5.4,!=0.5.5,<0.6.0,>=0.4.0->langchain-chroma) (1.19.2)\n",
      "Requirement already satisfied: opentelemetry-api>=1.2.0 in /Users/sebastian/dev/tt/conf/basta-2024-rag/.conda/lib/python3.9/site-packages (from chromadb!=0.5.4,!=0.5.5,<0.6.0,>=0.4.0->langchain-chroma) (1.27.0)\n",
      "Requirement already satisfied: opentelemetry-exporter-otlp-proto-grpc>=1.2.0 in /Users/sebastian/dev/tt/conf/basta-2024-rag/.conda/lib/python3.9/site-packages (from chromadb!=0.5.4,!=0.5.5,<0.6.0,>=0.4.0->langchain-chroma) (1.27.0)\n",
      "Requirement already satisfied: opentelemetry-instrumentation-fastapi>=0.41b0 in /Users/sebastian/dev/tt/conf/basta-2024-rag/.conda/lib/python3.9/site-packages (from chromadb!=0.5.4,!=0.5.5,<0.6.0,>=0.4.0->langchain-chroma) (0.48b0)\n",
      "Requirement already satisfied: opentelemetry-sdk>=1.2.0 in /Users/sebastian/dev/tt/conf/basta-2024-rag/.conda/lib/python3.9/site-packages (from chromadb!=0.5.4,!=0.5.5,<0.6.0,>=0.4.0->langchain-chroma) (1.27.0)\n",
      "Requirement already satisfied: tokenizers>=0.13.2 in /Users/sebastian/dev/tt/conf/basta-2024-rag/.conda/lib/python3.9/site-packages (from chromadb!=0.5.4,!=0.5.5,<0.6.0,>=0.4.0->langchain-chroma) (0.19.1)\n",
      "Requirement already satisfied: pypika>=0.48.9 in /Users/sebastian/dev/tt/conf/basta-2024-rag/.conda/lib/python3.9/site-packages (from chromadb!=0.5.4,!=0.5.5,<0.6.0,>=0.4.0->langchain-chroma) (0.48.9)\n",
      "Requirement already satisfied: tqdm>=4.65.0 in /Users/sebastian/dev/tt/conf/basta-2024-rag/.conda/lib/python3.9/site-packages (from chromadb!=0.5.4,!=0.5.5,<0.6.0,>=0.4.0->langchain-chroma) (4.66.5)\n",
      "Requirement already satisfied: overrides>=7.3.1 in /Users/sebastian/dev/tt/conf/basta-2024-rag/.conda/lib/python3.9/site-packages (from chromadb!=0.5.4,!=0.5.5,<0.6.0,>=0.4.0->langchain-chroma) (7.7.0)\n",
      "Requirement already satisfied: importlib-resources in /Users/sebastian/dev/tt/conf/basta-2024-rag/.conda/lib/python3.9/site-packages (from chromadb!=0.5.4,!=0.5.5,<0.6.0,>=0.4.0->langchain-chroma) (6.4.5)\n",
      "Requirement already satisfied: grpcio>=1.58.0 in /Users/sebastian/dev/tt/conf/basta-2024-rag/.conda/lib/python3.9/site-packages (from chromadb!=0.5.4,!=0.5.5,<0.6.0,>=0.4.0->langchain-chroma) (1.66.1)\n",
      "Requirement already satisfied: bcrypt>=4.0.1 in /Users/sebastian/dev/tt/conf/basta-2024-rag/.conda/lib/python3.9/site-packages (from chromadb!=0.5.4,!=0.5.5,<0.6.0,>=0.4.0->langchain-chroma) (4.2.0)\n",
      "Requirement already satisfied: typer>=0.9.0 in /Users/sebastian/dev/tt/conf/basta-2024-rag/.conda/lib/python3.9/site-packages (from chromadb!=0.5.4,!=0.5.5,<0.6.0,>=0.4.0->langchain-chroma) (0.12.5)\n",
      "Requirement already satisfied: kubernetes>=28.1.0 in /Users/sebastian/dev/tt/conf/basta-2024-rag/.conda/lib/python3.9/site-packages (from chromadb!=0.5.4,!=0.5.5,<0.6.0,>=0.4.0->langchain-chroma) (30.1.0)\n",
      "Requirement already satisfied: tenacity>=8.2.3 in /Users/sebastian/dev/tt/conf/basta-2024-rag/.conda/lib/python3.9/site-packages (from chromadb!=0.5.4,!=0.5.5,<0.6.0,>=0.4.0->langchain-chroma) (8.5.0)\n",
      "Requirement already satisfied: PyYAML>=6.0.0 in /Users/sebastian/dev/tt/conf/basta-2024-rag/.conda/lib/python3.9/site-packages (from chromadb!=0.5.4,!=0.5.5,<0.6.0,>=0.4.0->langchain-chroma) (6.0.2)\n",
      "Requirement already satisfied: mmh3>=4.0.1 in /Users/sebastian/dev/tt/conf/basta-2024-rag/.conda/lib/python3.9/site-packages (from chromadb!=0.5.4,!=0.5.5,<0.6.0,>=0.4.0->langchain-chroma) (4.1.0)\n",
      "Requirement already satisfied: orjson>=3.9.12 in /Users/sebastian/dev/tt/conf/basta-2024-rag/.conda/lib/python3.9/site-packages (from chromadb!=0.5.4,!=0.5.5,<0.6.0,>=0.4.0->langchain-chroma) (3.10.7)\n",
      "Requirement already satisfied: httpx>=0.27.0 in /Users/sebastian/dev/tt/conf/basta-2024-rag/.conda/lib/python3.9/site-packages (from chromadb!=0.5.4,!=0.5.5,<0.6.0,>=0.4.0->langchain-chroma) (0.27.2)\n",
      "Requirement already satisfied: starlette<0.39.0,>=0.37.2 in /Users/sebastian/dev/tt/conf/basta-2024-rag/.conda/lib/python3.9/site-packages (from fastapi<1,>=0.95.2->langchain-chroma) (0.38.5)\n",
      "Requirement already satisfied: jsonpatch<2.0,>=1.33 in /Users/sebastian/dev/tt/conf/basta-2024-rag/.conda/lib/python3.9/site-packages (from langchain-core<0.4,>=0.1.40->langchain-chroma) (1.33)\n",
      "Requirement already satisfied: langsmith<0.2.0,>=0.1.117 in /Users/sebastian/dev/tt/conf/basta-2024-rag/.conda/lib/python3.9/site-packages (from langchain-core<0.4,>=0.1.40->langchain-chroma) (0.1.121)\n",
      "Requirement already satisfied: packaging<25,>=23.2 in /Users/sebastian/dev/tt/conf/basta-2024-rag/.conda/lib/python3.9/site-packages (from langchain-core<0.4,>=0.1.40->langchain-chroma) (24.1)\n",
      "Requirement already satisfied: pyproject_hooks in /Users/sebastian/dev/tt/conf/basta-2024-rag/.conda/lib/python3.9/site-packages (from build>=1.0.3->chromadb!=0.5.4,!=0.5.5,<0.6.0,>=0.4.0->langchain-chroma) (1.1.0)\n",
      "Requirement already satisfied: importlib-metadata>=4.6 in /Users/sebastian/dev/tt/conf/basta-2024-rag/.conda/lib/python3.9/site-packages (from build>=1.0.3->chromadb!=0.5.4,!=0.5.5,<0.6.0,>=0.4.0->langchain-chroma) (8.4.0)\n",
      "Requirement already satisfied: tomli>=1.1.0 in /Users/sebastian/dev/tt/conf/basta-2024-rag/.conda/lib/python3.9/site-packages (from build>=1.0.3->chromadb!=0.5.4,!=0.5.5,<0.6.0,>=0.4.0->langchain-chroma) (2.0.1)\n",
      "Requirement already satisfied: anyio in /Users/sebastian/dev/tt/conf/basta-2024-rag/.conda/lib/python3.9/site-packages (from httpx>=0.27.0->chromadb!=0.5.4,!=0.5.5,<0.6.0,>=0.4.0->langchain-chroma) (4.4.0)\n",
      "Requirement already satisfied: certifi in /Users/sebastian/dev/tt/conf/basta-2024-rag/.conda/lib/python3.9/site-packages (from httpx>=0.27.0->chromadb!=0.5.4,!=0.5.5,<0.6.0,>=0.4.0->langchain-chroma) (2024.8.30)\n",
      "Requirement already satisfied: httpcore==1.* in /Users/sebastian/dev/tt/conf/basta-2024-rag/.conda/lib/python3.9/site-packages (from httpx>=0.27.0->chromadb!=0.5.4,!=0.5.5,<0.6.0,>=0.4.0->langchain-chroma) (1.0.5)\n",
      "Requirement already satisfied: idna in /Users/sebastian/dev/tt/conf/basta-2024-rag/.conda/lib/python3.9/site-packages (from httpx>=0.27.0->chromadb!=0.5.4,!=0.5.5,<0.6.0,>=0.4.0->langchain-chroma) (3.10)\n",
      "Requirement already satisfied: sniffio in /Users/sebastian/dev/tt/conf/basta-2024-rag/.conda/lib/python3.9/site-packages (from httpx>=0.27.0->chromadb!=0.5.4,!=0.5.5,<0.6.0,>=0.4.0->langchain-chroma) (1.3.1)\n",
      "Requirement already satisfied: h11<0.15,>=0.13 in /Users/sebastian/dev/tt/conf/basta-2024-rag/.conda/lib/python3.9/site-packages (from httpcore==1.*->httpx>=0.27.0->chromadb!=0.5.4,!=0.5.5,<0.6.0,>=0.4.0->langchain-chroma) (0.14.0)\n",
      "Requirement already satisfied: jsonpointer>=1.9 in /Users/sebastian/dev/tt/conf/basta-2024-rag/.conda/lib/python3.9/site-packages (from jsonpatch<2.0,>=1.33->langchain-core<0.4,>=0.1.40->langchain-chroma) (3.0.0)\n",
      "Requirement already satisfied: six>=1.9.0 in /Users/sebastian/dev/tt/conf/basta-2024-rag/.conda/lib/python3.9/site-packages (from kubernetes>=28.1.0->chromadb!=0.5.4,!=0.5.5,<0.6.0,>=0.4.0->langchain-chroma) (1.16.0)\n",
      "Requirement already satisfied: python-dateutil>=2.5.3 in /Users/sebastian/dev/tt/conf/basta-2024-rag/.conda/lib/python3.9/site-packages (from kubernetes>=28.1.0->chromadb!=0.5.4,!=0.5.5,<0.6.0,>=0.4.0->langchain-chroma) (2.9.0)\n",
      "Requirement already satisfied: google-auth>=1.0.1 in /Users/sebastian/dev/tt/conf/basta-2024-rag/.conda/lib/python3.9/site-packages (from kubernetes>=28.1.0->chromadb!=0.5.4,!=0.5.5,<0.6.0,>=0.4.0->langchain-chroma) (2.34.0)\n",
      "Requirement already satisfied: websocket-client!=0.40.0,!=0.41.*,!=0.42.*,>=0.32.0 in /Users/sebastian/dev/tt/conf/basta-2024-rag/.conda/lib/python3.9/site-packages (from kubernetes>=28.1.0->chromadb!=0.5.4,!=0.5.5,<0.6.0,>=0.4.0->langchain-chroma) (1.8.0)\n",
      "Requirement already satisfied: requests-oauthlib in /Users/sebastian/dev/tt/conf/basta-2024-rag/.conda/lib/python3.9/site-packages (from kubernetes>=28.1.0->chromadb!=0.5.4,!=0.5.5,<0.6.0,>=0.4.0->langchain-chroma) (2.0.0)\n",
      "Requirement already satisfied: oauthlib>=3.2.2 in /Users/sebastian/dev/tt/conf/basta-2024-rag/.conda/lib/python3.9/site-packages (from kubernetes>=28.1.0->chromadb!=0.5.4,!=0.5.5,<0.6.0,>=0.4.0->langchain-chroma) (3.2.2)\n",
      "Requirement already satisfied: urllib3>=1.24.2 in /Users/sebastian/dev/tt/conf/basta-2024-rag/.conda/lib/python3.9/site-packages (from kubernetes>=28.1.0->chromadb!=0.5.4,!=0.5.5,<0.6.0,>=0.4.0->langchain-chroma) (2.2.3)\n",
      "Requirement already satisfied: coloredlogs in /Users/sebastian/dev/tt/conf/basta-2024-rag/.conda/lib/python3.9/site-packages (from onnxruntime>=1.14.1->chromadb!=0.5.4,!=0.5.5,<0.6.0,>=0.4.0->langchain-chroma) (15.0.1)\n",
      "Requirement already satisfied: flatbuffers in /Users/sebastian/dev/tt/conf/basta-2024-rag/.conda/lib/python3.9/site-packages (from onnxruntime>=1.14.1->chromadb!=0.5.4,!=0.5.5,<0.6.0,>=0.4.0->langchain-chroma) (24.3.25)\n",
      "Requirement already satisfied: protobuf in /Users/sebastian/dev/tt/conf/basta-2024-rag/.conda/lib/python3.9/site-packages (from onnxruntime>=1.14.1->chromadb!=0.5.4,!=0.5.5,<0.6.0,>=0.4.0->langchain-chroma) (4.25.4)\n",
      "Requirement already satisfied: sympy in /Users/sebastian/dev/tt/conf/basta-2024-rag/.conda/lib/python3.9/site-packages (from onnxruntime>=1.14.1->chromadb!=0.5.4,!=0.5.5,<0.6.0,>=0.4.0->langchain-chroma) (1.13.2)\n",
      "Requirement already satisfied: deprecated>=1.2.6 in /Users/sebastian/dev/tt/conf/basta-2024-rag/.conda/lib/python3.9/site-packages (from opentelemetry-api>=1.2.0->chromadb!=0.5.4,!=0.5.5,<0.6.0,>=0.4.0->langchain-chroma) (1.2.14)\n",
      "Requirement already satisfied: googleapis-common-protos~=1.52 in /Users/sebastian/dev/tt/conf/basta-2024-rag/.conda/lib/python3.9/site-packages (from opentelemetry-exporter-otlp-proto-grpc>=1.2.0->chromadb!=0.5.4,!=0.5.5,<0.6.0,>=0.4.0->langchain-chroma) (1.65.0)\n",
      "Requirement already satisfied: opentelemetry-exporter-otlp-proto-common==1.27.0 in /Users/sebastian/dev/tt/conf/basta-2024-rag/.conda/lib/python3.9/site-packages (from opentelemetry-exporter-otlp-proto-grpc>=1.2.0->chromadb!=0.5.4,!=0.5.5,<0.6.0,>=0.4.0->langchain-chroma) (1.27.0)\n",
      "Requirement already satisfied: opentelemetry-proto==1.27.0 in /Users/sebastian/dev/tt/conf/basta-2024-rag/.conda/lib/python3.9/site-packages (from opentelemetry-exporter-otlp-proto-grpc>=1.2.0->chromadb!=0.5.4,!=0.5.5,<0.6.0,>=0.4.0->langchain-chroma) (1.27.0)\n",
      "Requirement already satisfied: opentelemetry-instrumentation-asgi==0.48b0 in /Users/sebastian/dev/tt/conf/basta-2024-rag/.conda/lib/python3.9/site-packages (from opentelemetry-instrumentation-fastapi>=0.41b0->chromadb!=0.5.4,!=0.5.5,<0.6.0,>=0.4.0->langchain-chroma) (0.48b0)\n",
      "Requirement already satisfied: opentelemetry-instrumentation==0.48b0 in /Users/sebastian/dev/tt/conf/basta-2024-rag/.conda/lib/python3.9/site-packages (from opentelemetry-instrumentation-fastapi>=0.41b0->chromadb!=0.5.4,!=0.5.5,<0.6.0,>=0.4.0->langchain-chroma) (0.48b0)\n",
      "Requirement already satisfied: opentelemetry-semantic-conventions==0.48b0 in /Users/sebastian/dev/tt/conf/basta-2024-rag/.conda/lib/python3.9/site-packages (from opentelemetry-instrumentation-fastapi>=0.41b0->chromadb!=0.5.4,!=0.5.5,<0.6.0,>=0.4.0->langchain-chroma) (0.48b0)\n",
      "Requirement already satisfied: opentelemetry-util-http==0.48b0 in /Users/sebastian/dev/tt/conf/basta-2024-rag/.conda/lib/python3.9/site-packages (from opentelemetry-instrumentation-fastapi>=0.41b0->chromadb!=0.5.4,!=0.5.5,<0.6.0,>=0.4.0->langchain-chroma) (0.48b0)\n",
      "Requirement already satisfied: setuptools>=16.0 in /Users/sebastian/dev/tt/conf/basta-2024-rag/.conda/lib/python3.9/site-packages (from opentelemetry-instrumentation==0.48b0->opentelemetry-instrumentation-fastapi>=0.41b0->chromadb!=0.5.4,!=0.5.5,<0.6.0,>=0.4.0->langchain-chroma) (72.1.0)\n",
      "Requirement already satisfied: wrapt<2.0.0,>=1.0.0 in /Users/sebastian/dev/tt/conf/basta-2024-rag/.conda/lib/python3.9/site-packages (from opentelemetry-instrumentation==0.48b0->opentelemetry-instrumentation-fastapi>=0.41b0->chromadb!=0.5.4,!=0.5.5,<0.6.0,>=0.4.0->langchain-chroma) (1.16.0)\n",
      "Requirement already satisfied: asgiref~=3.0 in /Users/sebastian/dev/tt/conf/basta-2024-rag/.conda/lib/python3.9/site-packages (from opentelemetry-instrumentation-asgi==0.48b0->opentelemetry-instrumentation-fastapi>=0.41b0->chromadb!=0.5.4,!=0.5.5,<0.6.0,>=0.4.0->langchain-chroma) (3.8.1)\n",
      "Requirement already satisfied: monotonic>=1.5 in /Users/sebastian/dev/tt/conf/basta-2024-rag/.conda/lib/python3.9/site-packages (from posthog>=2.4.0->chromadb!=0.5.4,!=0.5.5,<0.6.0,>=0.4.0->langchain-chroma) (1.6)\n",
      "Requirement already satisfied: backoff>=1.10.0 in /Users/sebastian/dev/tt/conf/basta-2024-rag/.conda/lib/python3.9/site-packages (from posthog>=2.4.0->chromadb!=0.5.4,!=0.5.5,<0.6.0,>=0.4.0->langchain-chroma) (2.2.1)\n",
      "Requirement already satisfied: annotated-types>=0.6.0 in /Users/sebastian/dev/tt/conf/basta-2024-rag/.conda/lib/python3.9/site-packages (from pydantic>=1.9->chromadb!=0.5.4,!=0.5.5,<0.6.0,>=0.4.0->langchain-chroma) (0.7.0)\n",
      "Requirement already satisfied: pydantic-core==2.23.3 in /Users/sebastian/dev/tt/conf/basta-2024-rag/.conda/lib/python3.9/site-packages (from pydantic>=1.9->chromadb!=0.5.4,!=0.5.5,<0.6.0,>=0.4.0->langchain-chroma) (2.23.3)\n",
      "Requirement already satisfied: charset-normalizer<4,>=2 in /Users/sebastian/dev/tt/conf/basta-2024-rag/.conda/lib/python3.9/site-packages (from requests>=2.28->chromadb!=0.5.4,!=0.5.5,<0.6.0,>=0.4.0->langchain-chroma) (3.3.2)\n",
      "Requirement already satisfied: huggingface-hub<1.0,>=0.16.4 in /Users/sebastian/dev/tt/conf/basta-2024-rag/.conda/lib/python3.9/site-packages (from tokenizers>=0.13.2->chromadb!=0.5.4,!=0.5.5,<0.6.0,>=0.4.0->langchain-chroma) (0.24.7)\n",
      "Requirement already satisfied: click>=8.0.0 in /Users/sebastian/dev/tt/conf/basta-2024-rag/.conda/lib/python3.9/site-packages (from typer>=0.9.0->chromadb!=0.5.4,!=0.5.5,<0.6.0,>=0.4.0->langchain-chroma) (8.1.7)\n",
      "Requirement already satisfied: shellingham>=1.3.0 in /Users/sebastian/dev/tt/conf/basta-2024-rag/.conda/lib/python3.9/site-packages (from typer>=0.9.0->chromadb!=0.5.4,!=0.5.5,<0.6.0,>=0.4.0->langchain-chroma) (1.5.4)\n",
      "Requirement already satisfied: rich>=10.11.0 in /Users/sebastian/dev/tt/conf/basta-2024-rag/.conda/lib/python3.9/site-packages (from typer>=0.9.0->chromadb!=0.5.4,!=0.5.5,<0.6.0,>=0.4.0->langchain-chroma) (13.8.1)\n",
      "Requirement already satisfied: httptools>=0.5.0 in /Users/sebastian/dev/tt/conf/basta-2024-rag/.conda/lib/python3.9/site-packages (from uvicorn[standard]>=0.18.3->chromadb!=0.5.4,!=0.5.5,<0.6.0,>=0.4.0->langchain-chroma) (0.6.1)\n",
      "Requirement already satisfied: python-dotenv>=0.13 in /Users/sebastian/dev/tt/conf/basta-2024-rag/.conda/lib/python3.9/site-packages (from uvicorn[standard]>=0.18.3->chromadb!=0.5.4,!=0.5.5,<0.6.0,>=0.4.0->langchain-chroma) (1.0.1)\n",
      "Requirement already satisfied: uvloop!=0.15.0,!=0.15.1,>=0.14.0 in /Users/sebastian/dev/tt/conf/basta-2024-rag/.conda/lib/python3.9/site-packages (from uvicorn[standard]>=0.18.3->chromadb!=0.5.4,!=0.5.5,<0.6.0,>=0.4.0->langchain-chroma) (0.20.0)\n",
      "Requirement already satisfied: watchfiles>=0.13 in /Users/sebastian/dev/tt/conf/basta-2024-rag/.conda/lib/python3.9/site-packages (from uvicorn[standard]>=0.18.3->chromadb!=0.5.4,!=0.5.5,<0.6.0,>=0.4.0->langchain-chroma) (0.24.0)\n",
      "Requirement already satisfied: websockets>=10.4 in /Users/sebastian/dev/tt/conf/basta-2024-rag/.conda/lib/python3.9/site-packages (from uvicorn[standard]>=0.18.3->chromadb!=0.5.4,!=0.5.5,<0.6.0,>=0.4.0->langchain-chroma) (13.0.1)\n",
      "Requirement already satisfied: zipp>=3.1.0 in /Users/sebastian/dev/tt/conf/basta-2024-rag/.conda/lib/python3.9/site-packages (from importlib-resources->chromadb!=0.5.4,!=0.5.5,<0.6.0,>=0.4.0->langchain-chroma) (3.20.2)\n",
      "Requirement already satisfied: exceptiongroup>=1.0.2 in /Users/sebastian/dev/tt/conf/basta-2024-rag/.conda/lib/python3.9/site-packages (from anyio->httpx>=0.27.0->chromadb!=0.5.4,!=0.5.5,<0.6.0,>=0.4.0->langchain-chroma) (1.2.2)\n",
      "Requirement already satisfied: cachetools<6.0,>=2.0.0 in /Users/sebastian/dev/tt/conf/basta-2024-rag/.conda/lib/python3.9/site-packages (from google-auth>=1.0.1->kubernetes>=28.1.0->chromadb!=0.5.4,!=0.5.5,<0.6.0,>=0.4.0->langchain-chroma) (5.5.0)\n",
      "Requirement already satisfied: pyasn1-modules>=0.2.1 in /Users/sebastian/dev/tt/conf/basta-2024-rag/.conda/lib/python3.9/site-packages (from google-auth>=1.0.1->kubernetes>=28.1.0->chromadb!=0.5.4,!=0.5.5,<0.6.0,>=0.4.0->langchain-chroma) (0.4.1)\n",
      "Requirement already satisfied: rsa<5,>=3.1.4 in /Users/sebastian/dev/tt/conf/basta-2024-rag/.conda/lib/python3.9/site-packages (from google-auth>=1.0.1->kubernetes>=28.1.0->chromadb!=0.5.4,!=0.5.5,<0.6.0,>=0.4.0->langchain-chroma) (4.9)\n",
      "Requirement already satisfied: filelock in /Users/sebastian/dev/tt/conf/basta-2024-rag/.conda/lib/python3.9/site-packages (from huggingface-hub<1.0,>=0.16.4->tokenizers>=0.13.2->chromadb!=0.5.4,!=0.5.5,<0.6.0,>=0.4.0->langchain-chroma) (3.16.0)\n",
      "Requirement already satisfied: fsspec>=2023.5.0 in /Users/sebastian/dev/tt/conf/basta-2024-rag/.conda/lib/python3.9/site-packages (from huggingface-hub<1.0,>=0.16.4->tokenizers>=0.13.2->chromadb!=0.5.4,!=0.5.5,<0.6.0,>=0.4.0->langchain-chroma) (2024.9.0)\n",
      "Requirement already satisfied: markdown-it-py>=2.2.0 in /Users/sebastian/dev/tt/conf/basta-2024-rag/.conda/lib/python3.9/site-packages (from rich>=10.11.0->typer>=0.9.0->chromadb!=0.5.4,!=0.5.5,<0.6.0,>=0.4.0->langchain-chroma) (3.0.0)\n",
      "Requirement already satisfied: pygments<3.0.0,>=2.13.0 in /Users/sebastian/dev/tt/conf/basta-2024-rag/.conda/lib/python3.9/site-packages (from rich>=10.11.0->typer>=0.9.0->chromadb!=0.5.4,!=0.5.5,<0.6.0,>=0.4.0->langchain-chroma) (2.18.0)\n",
      "Requirement already satisfied: humanfriendly>=9.1 in /Users/sebastian/dev/tt/conf/basta-2024-rag/.conda/lib/python3.9/site-packages (from coloredlogs->onnxruntime>=1.14.1->chromadb!=0.5.4,!=0.5.5,<0.6.0,>=0.4.0->langchain-chroma) (10.0)\n",
      "Requirement already satisfied: mpmath<1.4,>=1.1.0 in /Users/sebastian/dev/tt/conf/basta-2024-rag/.conda/lib/python3.9/site-packages (from sympy->onnxruntime>=1.14.1->chromadb!=0.5.4,!=0.5.5,<0.6.0,>=0.4.0->langchain-chroma) (1.3.0)\n",
      "Requirement already satisfied: mdurl~=0.1 in /Users/sebastian/dev/tt/conf/basta-2024-rag/.conda/lib/python3.9/site-packages (from markdown-it-py>=2.2.0->rich>=10.11.0->typer>=0.9.0->chromadb!=0.5.4,!=0.5.5,<0.6.0,>=0.4.0->langchain-chroma) (0.1.2)\n",
      "Requirement already satisfied: pyasn1<0.7.0,>=0.4.6 in /Users/sebastian/dev/tt/conf/basta-2024-rag/.conda/lib/python3.9/site-packages (from pyasn1-modules>=0.2.1->google-auth>=1.0.1->kubernetes>=28.1.0->chromadb!=0.5.4,!=0.5.5,<0.6.0,>=0.4.0->langchain-chroma) (0.6.1)\n",
      "Note: you may need to restart the kernel to use updated packages.\n",
      "Requirement already satisfied: langchain-huggingface in /Users/sebastian/dev/tt/conf/basta-2024-rag/.conda/lib/python3.9/site-packages (0.1.0)\n",
      "Requirement already satisfied: huggingface-hub>=0.23.0 in /Users/sebastian/dev/tt/conf/basta-2024-rag/.conda/lib/python3.9/site-packages (from langchain-huggingface) (0.24.7)\n",
      "Requirement already satisfied: langchain-core<0.4,>=0.3.0 in /Users/sebastian/dev/tt/conf/basta-2024-rag/.conda/lib/python3.9/site-packages (from langchain-huggingface) (0.3.0)\n",
      "Requirement already satisfied: sentence-transformers>=2.6.0 in /Users/sebastian/dev/tt/conf/basta-2024-rag/.conda/lib/python3.9/site-packages (from langchain-huggingface) (3.1.0)\n",
      "Requirement already satisfied: tokenizers>=0.19.1 in /Users/sebastian/dev/tt/conf/basta-2024-rag/.conda/lib/python3.9/site-packages (from langchain-huggingface) (0.19.1)\n",
      "Requirement already satisfied: transformers>=4.39.0 in /Users/sebastian/dev/tt/conf/basta-2024-rag/.conda/lib/python3.9/site-packages (from langchain-huggingface) (4.44.2)\n",
      "Requirement already satisfied: filelock in /Users/sebastian/dev/tt/conf/basta-2024-rag/.conda/lib/python3.9/site-packages (from huggingface-hub>=0.23.0->langchain-huggingface) (3.16.0)\n",
      "Requirement already satisfied: fsspec>=2023.5.0 in /Users/sebastian/dev/tt/conf/basta-2024-rag/.conda/lib/python3.9/site-packages (from huggingface-hub>=0.23.0->langchain-huggingface) (2024.9.0)\n",
      "Requirement already satisfied: packaging>=20.9 in /Users/sebastian/dev/tt/conf/basta-2024-rag/.conda/lib/python3.9/site-packages (from huggingface-hub>=0.23.0->langchain-huggingface) (24.1)\n",
      "Requirement already satisfied: pyyaml>=5.1 in /Users/sebastian/dev/tt/conf/basta-2024-rag/.conda/lib/python3.9/site-packages (from huggingface-hub>=0.23.0->langchain-huggingface) (6.0.2)\n",
      "Requirement already satisfied: requests in /Users/sebastian/dev/tt/conf/basta-2024-rag/.conda/lib/python3.9/site-packages (from huggingface-hub>=0.23.0->langchain-huggingface) (2.32.3)\n",
      "Requirement already satisfied: tqdm>=4.42.1 in /Users/sebastian/dev/tt/conf/basta-2024-rag/.conda/lib/python3.9/site-packages (from huggingface-hub>=0.23.0->langchain-huggingface) (4.66.5)\n",
      "Requirement already satisfied: typing-extensions>=3.7.4.3 in /Users/sebastian/dev/tt/conf/basta-2024-rag/.conda/lib/python3.9/site-packages (from huggingface-hub>=0.23.0->langchain-huggingface) (4.12.2)\n",
      "Requirement already satisfied: jsonpatch<2.0,>=1.33 in /Users/sebastian/dev/tt/conf/basta-2024-rag/.conda/lib/python3.9/site-packages (from langchain-core<0.4,>=0.3.0->langchain-huggingface) (1.33)\n",
      "Requirement already satisfied: langsmith<0.2.0,>=0.1.117 in /Users/sebastian/dev/tt/conf/basta-2024-rag/.conda/lib/python3.9/site-packages (from langchain-core<0.4,>=0.3.0->langchain-huggingface) (0.1.121)\n",
      "Requirement already satisfied: pydantic<3.0.0,>=2.5.2 in /Users/sebastian/dev/tt/conf/basta-2024-rag/.conda/lib/python3.9/site-packages (from langchain-core<0.4,>=0.3.0->langchain-huggingface) (2.9.1)\n",
      "Requirement already satisfied: tenacity!=8.4.0,<9.0.0,>=8.1.0 in /Users/sebastian/dev/tt/conf/basta-2024-rag/.conda/lib/python3.9/site-packages (from langchain-core<0.4,>=0.3.0->langchain-huggingface) (8.5.0)\n",
      "Requirement already satisfied: torch>=1.11.0 in /Users/sebastian/dev/tt/conf/basta-2024-rag/.conda/lib/python3.9/site-packages (from sentence-transformers>=2.6.0->langchain-huggingface) (2.4.1)\n",
      "Requirement already satisfied: numpy<2.0.0 in /Users/sebastian/dev/tt/conf/basta-2024-rag/.conda/lib/python3.9/site-packages (from sentence-transformers>=2.6.0->langchain-huggingface) (1.26.4)\n",
      "Requirement already satisfied: scikit-learn in /Users/sebastian/dev/tt/conf/basta-2024-rag/.conda/lib/python3.9/site-packages (from sentence-transformers>=2.6.0->langchain-huggingface) (1.5.2)\n",
      "Requirement already satisfied: scipy in /Users/sebastian/dev/tt/conf/basta-2024-rag/.conda/lib/python3.9/site-packages (from sentence-transformers>=2.6.0->langchain-huggingface) (1.13.1)\n",
      "Requirement already satisfied: Pillow in /Users/sebastian/dev/tt/conf/basta-2024-rag/.conda/lib/python3.9/site-packages (from sentence-transformers>=2.6.0->langchain-huggingface) (10.4.0)\n",
      "Requirement already satisfied: regex!=2019.12.17 in /Users/sebastian/dev/tt/conf/basta-2024-rag/.conda/lib/python3.9/site-packages (from transformers>=4.39.0->langchain-huggingface) (2024.9.11)\n",
      "Requirement already satisfied: safetensors>=0.4.1 in /Users/sebastian/dev/tt/conf/basta-2024-rag/.conda/lib/python3.9/site-packages (from transformers>=4.39.0->langchain-huggingface) (0.4.5)\n",
      "Requirement already satisfied: jsonpointer>=1.9 in /Users/sebastian/dev/tt/conf/basta-2024-rag/.conda/lib/python3.9/site-packages (from jsonpatch<2.0,>=1.33->langchain-core<0.4,>=0.3.0->langchain-huggingface) (3.0.0)\n",
      "Requirement already satisfied: httpx<1,>=0.23.0 in /Users/sebastian/dev/tt/conf/basta-2024-rag/.conda/lib/python3.9/site-packages (from langsmith<0.2.0,>=0.1.117->langchain-core<0.4,>=0.3.0->langchain-huggingface) (0.27.2)\n",
      "Requirement already satisfied: orjson<4.0.0,>=3.9.14 in /Users/sebastian/dev/tt/conf/basta-2024-rag/.conda/lib/python3.9/site-packages (from langsmith<0.2.0,>=0.1.117->langchain-core<0.4,>=0.3.0->langchain-huggingface) (3.10.7)\n",
      "Requirement already satisfied: annotated-types>=0.6.0 in /Users/sebastian/dev/tt/conf/basta-2024-rag/.conda/lib/python3.9/site-packages (from pydantic<3.0.0,>=2.5.2->langchain-core<0.4,>=0.3.0->langchain-huggingface) (0.7.0)\n",
      "Requirement already satisfied: pydantic-core==2.23.3 in /Users/sebastian/dev/tt/conf/basta-2024-rag/.conda/lib/python3.9/site-packages (from pydantic<3.0.0,>=2.5.2->langchain-core<0.4,>=0.3.0->langchain-huggingface) (2.23.3)\n",
      "Requirement already satisfied: charset-normalizer<4,>=2 in /Users/sebastian/dev/tt/conf/basta-2024-rag/.conda/lib/python3.9/site-packages (from requests->huggingface-hub>=0.23.0->langchain-huggingface) (3.3.2)\n",
      "Requirement already satisfied: idna<4,>=2.5 in /Users/sebastian/dev/tt/conf/basta-2024-rag/.conda/lib/python3.9/site-packages (from requests->huggingface-hub>=0.23.0->langchain-huggingface) (3.10)\n",
      "Requirement already satisfied: urllib3<3,>=1.21.1 in /Users/sebastian/dev/tt/conf/basta-2024-rag/.conda/lib/python3.9/site-packages (from requests->huggingface-hub>=0.23.0->langchain-huggingface) (2.2.3)\n",
      "Requirement already satisfied: certifi>=2017.4.17 in /Users/sebastian/dev/tt/conf/basta-2024-rag/.conda/lib/python3.9/site-packages (from requests->huggingface-hub>=0.23.0->langchain-huggingface) (2024.8.30)\n",
      "Requirement already satisfied: sympy in /Users/sebastian/dev/tt/conf/basta-2024-rag/.conda/lib/python3.9/site-packages (from torch>=1.11.0->sentence-transformers>=2.6.0->langchain-huggingface) (1.13.2)\n",
      "Requirement already satisfied: networkx in /Users/sebastian/dev/tt/conf/basta-2024-rag/.conda/lib/python3.9/site-packages (from torch>=1.11.0->sentence-transformers>=2.6.0->langchain-huggingface) (3.2.1)\n",
      "Requirement already satisfied: jinja2 in /Users/sebastian/dev/tt/conf/basta-2024-rag/.conda/lib/python3.9/site-packages (from torch>=1.11.0->sentence-transformers>=2.6.0->langchain-huggingface) (3.1.4)\n",
      "Requirement already satisfied: joblib>=1.2.0 in /Users/sebastian/dev/tt/conf/basta-2024-rag/.conda/lib/python3.9/site-packages (from scikit-learn->sentence-transformers>=2.6.0->langchain-huggingface) (1.4.2)\n",
      "Requirement already satisfied: threadpoolctl>=3.1.0 in /Users/sebastian/dev/tt/conf/basta-2024-rag/.conda/lib/python3.9/site-packages (from scikit-learn->sentence-transformers>=2.6.0->langchain-huggingface) (3.5.0)\n",
      "Requirement already satisfied: anyio in /Users/sebastian/dev/tt/conf/basta-2024-rag/.conda/lib/python3.9/site-packages (from httpx<1,>=0.23.0->langsmith<0.2.0,>=0.1.117->langchain-core<0.4,>=0.3.0->langchain-huggingface) (4.4.0)\n",
      "Requirement already satisfied: httpcore==1.* in /Users/sebastian/dev/tt/conf/basta-2024-rag/.conda/lib/python3.9/site-packages (from httpx<1,>=0.23.0->langsmith<0.2.0,>=0.1.117->langchain-core<0.4,>=0.3.0->langchain-huggingface) (1.0.5)\n",
      "Requirement already satisfied: sniffio in /Users/sebastian/dev/tt/conf/basta-2024-rag/.conda/lib/python3.9/site-packages (from httpx<1,>=0.23.0->langsmith<0.2.0,>=0.1.117->langchain-core<0.4,>=0.3.0->langchain-huggingface) (1.3.1)\n",
      "Requirement already satisfied: h11<0.15,>=0.13 in /Users/sebastian/dev/tt/conf/basta-2024-rag/.conda/lib/python3.9/site-packages (from httpcore==1.*->httpx<1,>=0.23.0->langsmith<0.2.0,>=0.1.117->langchain-core<0.4,>=0.3.0->langchain-huggingface) (0.14.0)\n",
      "Requirement already satisfied: MarkupSafe>=2.0 in /Users/sebastian/dev/tt/conf/basta-2024-rag/.conda/lib/python3.9/site-packages (from jinja2->torch>=1.11.0->sentence-transformers>=2.6.0->langchain-huggingface) (2.1.5)\n",
      "Requirement already satisfied: mpmath<1.4,>=1.1.0 in /Users/sebastian/dev/tt/conf/basta-2024-rag/.conda/lib/python3.9/site-packages (from sympy->torch>=1.11.0->sentence-transformers>=2.6.0->langchain-huggingface) (1.3.0)\n",
      "Requirement already satisfied: exceptiongroup>=1.0.2 in /Users/sebastian/dev/tt/conf/basta-2024-rag/.conda/lib/python3.9/site-packages (from anyio->httpx<1,>=0.23.0->langsmith<0.2.0,>=0.1.117->langchain-core<0.4,>=0.3.0->langchain-huggingface) (1.2.2)\n",
      "Note: you may need to restart the kernel to use updated packages.\n",
      "Requirement already satisfied: langchain-openai in /Users/sebastian/dev/tt/conf/basta-2024-rag/.conda/lib/python3.9/site-packages (0.2.0)\n",
      "Requirement already satisfied: langchain-core<0.4,>=0.3 in /Users/sebastian/dev/tt/conf/basta-2024-rag/.conda/lib/python3.9/site-packages (from langchain-openai) (0.3.0)\n",
      "Requirement already satisfied: openai<2.0.0,>=1.40.0 in /Users/sebastian/dev/tt/conf/basta-2024-rag/.conda/lib/python3.9/site-packages (from langchain-openai) (1.45.1)\n",
      "Requirement already satisfied: tiktoken<1,>=0.7 in /Users/sebastian/dev/tt/conf/basta-2024-rag/.conda/lib/python3.9/site-packages (from langchain-openai) (0.7.0)\n",
      "Requirement already satisfied: PyYAML>=5.3 in /Users/sebastian/dev/tt/conf/basta-2024-rag/.conda/lib/python3.9/site-packages (from langchain-core<0.4,>=0.3->langchain-openai) (6.0.2)\n",
      "Requirement already satisfied: jsonpatch<2.0,>=1.33 in /Users/sebastian/dev/tt/conf/basta-2024-rag/.conda/lib/python3.9/site-packages (from langchain-core<0.4,>=0.3->langchain-openai) (1.33)\n",
      "Requirement already satisfied: langsmith<0.2.0,>=0.1.117 in /Users/sebastian/dev/tt/conf/basta-2024-rag/.conda/lib/python3.9/site-packages (from langchain-core<0.4,>=0.3->langchain-openai) (0.1.121)\n",
      "Requirement already satisfied: packaging<25,>=23.2 in /Users/sebastian/dev/tt/conf/basta-2024-rag/.conda/lib/python3.9/site-packages (from langchain-core<0.4,>=0.3->langchain-openai) (24.1)\n",
      "Requirement already satisfied: pydantic<3.0.0,>=2.5.2 in /Users/sebastian/dev/tt/conf/basta-2024-rag/.conda/lib/python3.9/site-packages (from langchain-core<0.4,>=0.3->langchain-openai) (2.9.1)\n",
      "Requirement already satisfied: tenacity!=8.4.0,<9.0.0,>=8.1.0 in /Users/sebastian/dev/tt/conf/basta-2024-rag/.conda/lib/python3.9/site-packages (from langchain-core<0.4,>=0.3->langchain-openai) (8.5.0)\n",
      "Requirement already satisfied: typing-extensions>=4.7 in /Users/sebastian/dev/tt/conf/basta-2024-rag/.conda/lib/python3.9/site-packages (from langchain-core<0.4,>=0.3->langchain-openai) (4.12.2)\n",
      "Requirement already satisfied: anyio<5,>=3.5.0 in /Users/sebastian/dev/tt/conf/basta-2024-rag/.conda/lib/python3.9/site-packages (from openai<2.0.0,>=1.40.0->langchain-openai) (4.4.0)\n",
      "Requirement already satisfied: distro<2,>=1.7.0 in /Users/sebastian/dev/tt/conf/basta-2024-rag/.conda/lib/python3.9/site-packages (from openai<2.0.0,>=1.40.0->langchain-openai) (1.9.0)\n",
      "Requirement already satisfied: httpx<1,>=0.23.0 in /Users/sebastian/dev/tt/conf/basta-2024-rag/.conda/lib/python3.9/site-packages (from openai<2.0.0,>=1.40.0->langchain-openai) (0.27.2)\n",
      "Requirement already satisfied: jiter<1,>=0.4.0 in /Users/sebastian/dev/tt/conf/basta-2024-rag/.conda/lib/python3.9/site-packages (from openai<2.0.0,>=1.40.0->langchain-openai) (0.5.0)\n",
      "Requirement already satisfied: sniffio in /Users/sebastian/dev/tt/conf/basta-2024-rag/.conda/lib/python3.9/site-packages (from openai<2.0.0,>=1.40.0->langchain-openai) (1.3.1)\n",
      "Requirement already satisfied: tqdm>4 in /Users/sebastian/dev/tt/conf/basta-2024-rag/.conda/lib/python3.9/site-packages (from openai<2.0.0,>=1.40.0->langchain-openai) (4.66.5)\n",
      "Requirement already satisfied: regex>=2022.1.18 in /Users/sebastian/dev/tt/conf/basta-2024-rag/.conda/lib/python3.9/site-packages (from tiktoken<1,>=0.7->langchain-openai) (2024.9.11)\n",
      "Requirement already satisfied: requests>=2.26.0 in /Users/sebastian/dev/tt/conf/basta-2024-rag/.conda/lib/python3.9/site-packages (from tiktoken<1,>=0.7->langchain-openai) (2.32.3)\n",
      "Requirement already satisfied: idna>=2.8 in /Users/sebastian/dev/tt/conf/basta-2024-rag/.conda/lib/python3.9/site-packages (from anyio<5,>=3.5.0->openai<2.0.0,>=1.40.0->langchain-openai) (3.10)\n",
      "Requirement already satisfied: exceptiongroup>=1.0.2 in /Users/sebastian/dev/tt/conf/basta-2024-rag/.conda/lib/python3.9/site-packages (from anyio<5,>=3.5.0->openai<2.0.0,>=1.40.0->langchain-openai) (1.2.2)\n",
      "Requirement already satisfied: certifi in /Users/sebastian/dev/tt/conf/basta-2024-rag/.conda/lib/python3.9/site-packages (from httpx<1,>=0.23.0->openai<2.0.0,>=1.40.0->langchain-openai) (2024.8.30)\n",
      "Requirement already satisfied: httpcore==1.* in /Users/sebastian/dev/tt/conf/basta-2024-rag/.conda/lib/python3.9/site-packages (from httpx<1,>=0.23.0->openai<2.0.0,>=1.40.0->langchain-openai) (1.0.5)\n",
      "Requirement already satisfied: h11<0.15,>=0.13 in /Users/sebastian/dev/tt/conf/basta-2024-rag/.conda/lib/python3.9/site-packages (from httpcore==1.*->httpx<1,>=0.23.0->openai<2.0.0,>=1.40.0->langchain-openai) (0.14.0)\n",
      "Requirement already satisfied: jsonpointer>=1.9 in /Users/sebastian/dev/tt/conf/basta-2024-rag/.conda/lib/python3.9/site-packages (from jsonpatch<2.0,>=1.33->langchain-core<0.4,>=0.3->langchain-openai) (3.0.0)\n",
      "Requirement already satisfied: orjson<4.0.0,>=3.9.14 in /Users/sebastian/dev/tt/conf/basta-2024-rag/.conda/lib/python3.9/site-packages (from langsmith<0.2.0,>=0.1.117->langchain-core<0.4,>=0.3->langchain-openai) (3.10.7)\n",
      "Requirement already satisfied: annotated-types>=0.6.0 in /Users/sebastian/dev/tt/conf/basta-2024-rag/.conda/lib/python3.9/site-packages (from pydantic<3.0.0,>=2.5.2->langchain-core<0.4,>=0.3->langchain-openai) (0.7.0)\n",
      "Requirement already satisfied: pydantic-core==2.23.3 in /Users/sebastian/dev/tt/conf/basta-2024-rag/.conda/lib/python3.9/site-packages (from pydantic<3.0.0,>=2.5.2->langchain-core<0.4,>=0.3->langchain-openai) (2.23.3)\n",
      "Requirement already satisfied: charset-normalizer<4,>=2 in /Users/sebastian/dev/tt/conf/basta-2024-rag/.conda/lib/python3.9/site-packages (from requests>=2.26.0->tiktoken<1,>=0.7->langchain-openai) (3.3.2)\n",
      "Requirement already satisfied: urllib3<3,>=1.21.1 in /Users/sebastian/dev/tt/conf/basta-2024-rag/.conda/lib/python3.9/site-packages (from requests>=2.26.0->tiktoken<1,>=0.7->langchain-openai) (2.2.3)\n",
      "Note: you may need to restart the kernel to use updated packages.\n",
      "Requirement already satisfied: pickleshare in /Users/sebastian/dev/tt/conf/basta-2024-rag/.conda/lib/python3.9/site-packages (0.7.5)\n",
      "Note: you may need to restart the kernel to use updated packages.\n",
      "Requirement already satisfied: qdrant-client in /Users/sebastian/dev/tt/conf/basta-2024-rag/.conda/lib/python3.9/site-packages (1.11.2)\n",
      "Requirement already satisfied: grpcio>=1.41.0 in /Users/sebastian/dev/tt/conf/basta-2024-rag/.conda/lib/python3.9/site-packages (from qdrant-client) (1.66.1)\n",
      "Requirement already satisfied: grpcio-tools>=1.41.0 in /Users/sebastian/dev/tt/conf/basta-2024-rag/.conda/lib/python3.9/site-packages (from qdrant-client) (1.66.1)\n",
      "Requirement already satisfied: httpx>=0.20.0 in /Users/sebastian/dev/tt/conf/basta-2024-rag/.conda/lib/python3.9/site-packages (from httpx[http2]>=0.20.0->qdrant-client) (0.27.2)\n",
      "Requirement already satisfied: numpy>=1.21 in /Users/sebastian/dev/tt/conf/basta-2024-rag/.conda/lib/python3.9/site-packages (from qdrant-client) (1.26.4)\n",
      "Requirement already satisfied: portalocker<3.0.0,>=2.7.0 in /Users/sebastian/dev/tt/conf/basta-2024-rag/.conda/lib/python3.9/site-packages (from qdrant-client) (2.10.1)\n",
      "Requirement already satisfied: pydantic>=1.10.8 in /Users/sebastian/dev/tt/conf/basta-2024-rag/.conda/lib/python3.9/site-packages (from qdrant-client) (2.9.1)\n",
      "Requirement already satisfied: urllib3<3,>=1.26.14 in /Users/sebastian/dev/tt/conf/basta-2024-rag/.conda/lib/python3.9/site-packages (from qdrant-client) (2.2.3)\n",
      "Collecting protobuf<6.0dev,>=5.26.1 (from grpcio-tools>=1.41.0->qdrant-client)\n",
      "  Using cached protobuf-5.28.1-cp38-abi3-macosx_10_9_universal2.whl.metadata (592 bytes)\n",
      "Requirement already satisfied: setuptools in /Users/sebastian/dev/tt/conf/basta-2024-rag/.conda/lib/python3.9/site-packages (from grpcio-tools>=1.41.0->qdrant-client) (72.1.0)\n",
      "Requirement already satisfied: anyio in /Users/sebastian/dev/tt/conf/basta-2024-rag/.conda/lib/python3.9/site-packages (from httpx>=0.20.0->httpx[http2]>=0.20.0->qdrant-client) (4.4.0)\n",
      "Requirement already satisfied: certifi in /Users/sebastian/dev/tt/conf/basta-2024-rag/.conda/lib/python3.9/site-packages (from httpx>=0.20.0->httpx[http2]>=0.20.0->qdrant-client) (2024.8.30)\n",
      "Requirement already satisfied: httpcore==1.* in /Users/sebastian/dev/tt/conf/basta-2024-rag/.conda/lib/python3.9/site-packages (from httpx>=0.20.0->httpx[http2]>=0.20.0->qdrant-client) (1.0.5)\n",
      "Requirement already satisfied: idna in /Users/sebastian/dev/tt/conf/basta-2024-rag/.conda/lib/python3.9/site-packages (from httpx>=0.20.0->httpx[http2]>=0.20.0->qdrant-client) (3.10)\n",
      "Requirement already satisfied: sniffio in /Users/sebastian/dev/tt/conf/basta-2024-rag/.conda/lib/python3.9/site-packages (from httpx>=0.20.0->httpx[http2]>=0.20.0->qdrant-client) (1.3.1)\n",
      "Requirement already satisfied: h11<0.15,>=0.13 in /Users/sebastian/dev/tt/conf/basta-2024-rag/.conda/lib/python3.9/site-packages (from httpcore==1.*->httpx>=0.20.0->httpx[http2]>=0.20.0->qdrant-client) (0.14.0)\n",
      "Requirement already satisfied: h2<5,>=3 in /Users/sebastian/dev/tt/conf/basta-2024-rag/.conda/lib/python3.9/site-packages (from httpx[http2]>=0.20.0->qdrant-client) (4.1.0)\n",
      "Requirement already satisfied: annotated-types>=0.6.0 in /Users/sebastian/dev/tt/conf/basta-2024-rag/.conda/lib/python3.9/site-packages (from pydantic>=1.10.8->qdrant-client) (0.7.0)\n",
      "Requirement already satisfied: pydantic-core==2.23.3 in /Users/sebastian/dev/tt/conf/basta-2024-rag/.conda/lib/python3.9/site-packages (from pydantic>=1.10.8->qdrant-client) (2.23.3)\n",
      "Requirement already satisfied: typing-extensions>=4.6.1 in /Users/sebastian/dev/tt/conf/basta-2024-rag/.conda/lib/python3.9/site-packages (from pydantic>=1.10.8->qdrant-client) (4.12.2)\n",
      "Requirement already satisfied: hyperframe<7,>=6.0 in /Users/sebastian/dev/tt/conf/basta-2024-rag/.conda/lib/python3.9/site-packages (from h2<5,>=3->httpx[http2]>=0.20.0->qdrant-client) (6.0.1)\n",
      "Requirement already satisfied: hpack<5,>=4.0 in /Users/sebastian/dev/tt/conf/basta-2024-rag/.conda/lib/python3.9/site-packages (from h2<5,>=3->httpx[http2]>=0.20.0->qdrant-client) (4.0.0)\n",
      "Requirement already satisfied: exceptiongroup>=1.0.2 in /Users/sebastian/dev/tt/conf/basta-2024-rag/.conda/lib/python3.9/site-packages (from anyio->httpx>=0.20.0->httpx[http2]>=0.20.0->qdrant-client) (1.2.2)\n",
      "Using cached protobuf-5.28.1-cp38-abi3-macosx_10_9_universal2.whl (414 kB)\n",
      "Installing collected packages: protobuf\n",
      "  Attempting uninstall: protobuf\n",
      "    Found existing installation: protobuf 4.25.4\n",
      "    Uninstalling protobuf-4.25.4:\n",
      "      Successfully uninstalled protobuf-4.25.4\n",
      "\u001b[31mERROR: pip's dependency resolver does not currently take into account all the packages that are installed. This behaviour is the source of the following dependency conflicts.\n",
      "opentelemetry-proto 1.27.0 requires protobuf<5.0,>=3.19, but you have protobuf 5.28.1 which is incompatible.\u001b[0m\u001b[31m\n",
      "\u001b[0mSuccessfully installed protobuf-5.28.1\n",
      "Note: you may need to restart the kernel to use updated packages.\n",
      "Requirement already satisfied: tabulate in /Users/sebastian/dev/tt/conf/basta-2024-rag/.conda/lib/python3.9/site-packages (0.9.0)\n",
      "Note: you may need to restart the kernel to use updated packages.\n"
     ]
    }
   ],
   "source": [
    "%pip install chromadb\n",
    "%pip install langchain\n",
    "%pip install langchain-community\n",
    "%pip install langchain-chroma\n",
    "%pip install langchain-huggingface\n",
    "%pip install langchain-openai\n",
    "%pip install pickleshare\n",
    "%pip install qdrant-client\n",
    "%pip install tabulate"
   ]
  },
  {
   "cell_type": "markdown",
   "metadata": {},
   "source": [
    "## Configuration:\n",
    "\n",
    "Please select the model you want to use for the transformations."
   ]
  },
  {
   "cell_type": "code",
   "execution_count": 18,
   "metadata": {
    "dotnet_interactive": {
     "language": "csharp"
    },
    "polyglot_notebook": {
     "kernelName": "csharp"
    }
   },
   "outputs": [],
   "source": [
    "llm_source = \"openai\" # openai or hf for huggingface\n",
    "embedding_source = \"openai\" # openai or hf for huggingface\n",
    "\n",
    "llm_model = \"gpt-4o\"\n",
    "temperature = 0\n",
    "\n",
    "embeddings_model = \"text-embedding-ada-002\"\n",
    "\n",
    "markdown_documents_path = \"../../tt-readme\"\n",
    "\n",
    "use_cached_documents = True\n",
    "use_cached_transforms = True\n",
    "reindex_documents = True"
   ]
  },
  {
   "cell_type": "markdown",
   "metadata": {},
   "source": [
    "## Test different approaches of indexing\n",
    "\n",
    "This will\n",
    "- create a question for each document,\n",
    "- create an answer for each document and\n",
    "- summarize each document"
   ]
  },
  {
   "cell_type": "markdown",
   "metadata": {},
   "source": [
    "## Load and split markdown contents of the TT Readme\n"
   ]
  },
  {
   "cell_type": "code",
   "execution_count": 19,
   "metadata": {
    "dotnet_interactive": {
     "language": "csharp"
    },
    "polyglot_notebook": {
     "kernelName": "csharp"
    }
   },
   "outputs": [
    {
     "name": "stdout",
     "output_type": "stream",
     "text": [
      "Skipping loading documents from markdown files\n"
     ]
    }
   ],
   "source": [
    "if use_cached_documents:\n",
    "    print(\"Skipping loading documents from markdown files\")\n",
    "else:\n",
    "\n",
    "    from langchain.document_loaders import DirectoryLoader, TextLoader\n",
    "    from langchain.text_splitter import MarkdownHeaderTextSplitter\n",
    "\n",
    "    readme_documents = DirectoryLoader(\n",
    "        markdown_documents_path,\n",
    "        glob=\"**/*.md\",\n",
    "        loader_cls=TextLoader\n",
    "        ).load()\n",
    "\n",
    "    headers_to_split_on = [\n",
    "        (\"#\", \"Header 1\"),\n",
    "        (\"##\", \"Header 2\"),\n",
    "    ]\n",
    "\n",
    "    splitter = MarkdownHeaderTextSplitter(headers_to_split_on)\n",
    "\n",
    "    split_documents = []\n",
    "    for doc in readme_documents:\n",
    "        result = splitter.split_text(doc.page_content)\n",
    "\n",
    "        if isinstance(result, list):\n",
    "            for res in result:\n",
    "                res.metadata.update(doc.metadata)\n",
    "            split_documents.extend(result)\n",
    "        else:\n",
    "            result.metadata.update(doc.metadata)\n",
    "            split_documents.append(result)\n",
    "\n",
    "    # For brevity, reduce amount of entries to a few only\n",
    "    # split_documents = split_documents[50:60]\n",
    "\n",
    "    index  = 1\n",
    "    for doc in split_documents:\n",
    "        doc.metadata[\"index\"] = index\n",
    "        index += 1\n",
    "        doc.metadata[\"original_content\"] = doc.page_content\n",
    "        #print(doc.metadata)\n",
    "        #print(\"\\n\")"
   ]
  },
  {
   "cell_type": "markdown",
   "metadata": {},
   "source": [
    "### Persist the data to files or load cached files"
   ]
  },
  {
   "cell_type": "code",
   "execution_count": 20,
   "metadata": {
    "dotnet_interactive": {
     "language": "csharp"
    },
    "polyglot_notebook": {
     "kernelName": "csharp"
    }
   },
   "outputs": [
    {
     "name": "stdout",
     "output_type": "stream",
     "text": [
      "Loading documents from file\n"
     ]
    }
   ],
   "source": [
    "import pickle\n",
    "\n",
    "if (use_cached_documents):\n",
    "    print(\"Loading documents from file\")\n",
    "    with open(\"./cache/split_documents.pickle\", \"rb\") as f:\n",
    "        split_documents = pickle.load(f)\n",
    "else:\n",
    "    print(\"Writing documents to file\")\n",
    "    with open(\"./cache/split_documents.pickle\", \"wb\") as f:\n",
    "        pickle.dump(split_documents, f)"
   ]
  },
  {
   "cell_type": "markdown",
   "metadata": {},
   "source": [
    "## Massage content into new embedding documents"
   ]
  },
  {
   "cell_type": "code",
   "execution_count": 21,
   "metadata": {
    "dotnet_interactive": {
     "language": "csharp"
    },
    "polyglot_notebook": {
     "kernelName": "csharp"
    }
   },
   "outputs": [],
   "source": [
    "from langchain_openai import ChatOpenAI\n",
    "from langchain.chains import LLMChain\n",
    "from langchain.prompts import PromptTemplate\n",
    "\n",
    "llm = ChatOpenAI(model=llm_model, temperature=temperature)\n",
    "\n",
    "def build_chain(prompt):\n",
    "    return LLMChain(llm=llm, prompt=PromptTemplate(input_variables=[\"input\"], template=prompt))\n",
    "\n",
    "question_chain = build_chain(\"Formuliere drei verschiedene deutsche Fragen, die der folgende Text beantwortet: {input}\")\n",
    "answer_chain = build_chain(\"Erkläre in zwei bis drei deutschen Sätzen, was der folgende Text beantwortet: {input}\")\n",
    "summarize_chain = build_chain(\"Erstelle eine kurze deutsche Zusammenfassung des folgenden Textes: {input}\")"
   ]
  },
  {
   "cell_type": "code",
   "execution_count": 22,
   "metadata": {
    "dotnet_interactive": {
     "language": "csharp"
    },
    "polyglot_notebook": {
     "kernelName": "csharp"
    }
   },
   "outputs": [
    {
     "name": "stdout",
     "output_type": "stream",
     "text": [
      "Loading cached file questions\n",
      "Loading cached file answers\n",
      "Loading cached file summaries\n"
     ]
    }
   ],
   "source": [
    "import copy\n",
    "\n",
    "def transform_documents(chain, file):\n",
    "    if use_cached_transforms:\n",
    "        print(f\"Loading cached file {file}\")\n",
    "        with open(f\"cache/{llm_model}_{file}_documents.pickle\", \"rb\") as f:\n",
    "            result = pickle.load(f)\n",
    "        return result\n",
    "    else:\n",
    "        result = copy.deepcopy(split_documents)\n",
    "        for doc in result:\n",
    "            print(f\"Transforming {file} document {doc.metadata['index']} with model {llm_model}\")\n",
    "            doc.metadata[\"original_content\"] = copy.copy(doc.page_content)\n",
    "            doc.page_content = chain.run(doc.page_content)\n",
    "        print(f\"Writing {file} documents from model {llm_model} to file\")\n",
    "        with open(f\"cache/{llm_model}_{file}_documents.pickle\", \"wb\") as f:\n",
    "            pickle.dump(result, f)\n",
    "        return result\n",
    "\n",
    "question_documents = transform_documents(question_chain, \"questions\")\n",
    "answer_documents = transform_documents(answer_chain, \"answers\")\n",
    "summary_documents = transform_documents(summarize_chain, \"summaries\")"
   ]
  },
  {
   "cell_type": "markdown",
   "metadata": {},
   "source": [
    "## Prepare Embeddings model"
   ]
  },
  {
   "cell_type": "code",
   "execution_count": 23,
   "metadata": {
    "dotnet_interactive": {
     "language": "csharp"
    },
    "polyglot_notebook": {
     "kernelName": "csharp"
    }
   },
   "outputs": [],
   "source": [
    "from langchain_openai import OpenAIEmbeddings\n",
    "\n",
    "embeddings = None\n",
    "\n",
    "if embedding_source == \"openai\":\n",
    "    embeddings = OpenAIEmbeddings(model=embeddings_model)"
   ]
  },
  {
   "cell_type": "markdown",
   "metadata": {},
   "source": [
    "## Prepare store"
   ]
  },
  {
   "cell_type": "code",
   "execution_count": 24,
   "metadata": {
    "dotnet_interactive": {
     "language": "csharp"
    },
    "polyglot_notebook": {
     "kernelName": "csharp"
    }
   },
   "outputs": [],
   "source": [
    "from langchain.vectorstores import Qdrant\n",
    "\n",
    "def store(documents, collection_name):\n",
    "    Qdrant.from_documents(\n",
    "        documents,\n",
    "        url=\"http://localhost:6333\",\n",
    "        embedding=embeddings,\n",
    "        collection_name=collection_name,\n",
    "        force_recreate=True,\n",
    "    )\n",
    "\n",
    "pure_collection = f\"{embeddings_model}-{llm_model}-p\"\n",
    "question_collection = f\"{embeddings_model}-{llm_model}-q\"\n",
    "answer_collection = f\"{embeddings_model}-{llm_model}-a\"\n",
    "summary_collection = f\"{embeddings_model}-{llm_model}-s\"\n",
    "\n",
    "collections = [pure_collection, question_collection, answer_collection, summary_collection]"
   ]
  },
  {
   "cell_type": "markdown",
   "metadata": {},
   "source": [
    "## Create embeddings and store them in different collections"
   ]
  },
  {
   "cell_type": "code",
   "execution_count": 25,
   "metadata": {
    "dotnet_interactive": {
     "language": "csharp"
    },
    "polyglot_notebook": {
     "kernelName": "csharp"
    }
   },
   "outputs": [],
   "source": [
    "if reindex_documents:\n",
    "    store(split_documents, pure_collection)\n",
    "    store(question_documents, question_collection)\n",
    "    store(answer_documents, answer_collection)\n",
    "    store(summary_documents, summary_collection)"
   ]
  },
  {
   "cell_type": "markdown",
   "metadata": {},
   "source": [
    "## Search with a query in the different indexes"
   ]
  },
  {
   "cell_type": "code",
   "execution_count": 26,
   "metadata": {
    "dotnet_interactive": {
     "language": "csharp"
    },
    "polyglot_notebook": {
     "kernelName": "csharp"
    }
   },
   "outputs": [],
   "source": [
    "queries = [\n",
    "    \"Was mache ich, wenn ich meinen letzten Zug verpasst habe?\",\n",
    "    \"Nach wie vielen Jahren kann ich mein Notebook erneuern?\",\n",
    "    \"Was ist MITOD?\",\n",
    "]"
   ]
  },
  {
   "cell_type": "code",
   "execution_count": 27,
   "metadata": {
    "dotnet_interactive": {
     "language": "csharp"
    },
    "polyglot_notebook": {
     "kernelName": "csharp"
    }
   },
   "outputs": [
    {
     "name": "stdout",
     "output_type": "stream",
     "text": [
      "Searching text-embedding-ada-002-gpt-4o-p for Was mache ich, wenn ich meinen letzten Zug verpasst habe?\n",
      "Searching text-embedding-ada-002-gpt-4o-p for Nach wie vielen Jahren kann ich mein Notebook erneuern?\n",
      "Searching text-embedding-ada-002-gpt-4o-p for Was ist MITOD?\n",
      "Searching text-embedding-ada-002-gpt-4o-q for Was mache ich, wenn ich meinen letzten Zug verpasst habe?\n",
      "Searching text-embedding-ada-002-gpt-4o-q for Nach wie vielen Jahren kann ich mein Notebook erneuern?\n",
      "Searching text-embedding-ada-002-gpt-4o-q for Was ist MITOD?\n",
      "Searching text-embedding-ada-002-gpt-4o-a for Was mache ich, wenn ich meinen letzten Zug verpasst habe?\n",
      "Searching text-embedding-ada-002-gpt-4o-a for Nach wie vielen Jahren kann ich mein Notebook erneuern?\n",
      "Searching text-embedding-ada-002-gpt-4o-a for Was ist MITOD?\n",
      "Searching text-embedding-ada-002-gpt-4o-s for Was mache ich, wenn ich meinen letzten Zug verpasst habe?\n",
      "Searching text-embedding-ada-002-gpt-4o-s for Nach wie vielen Jahren kann ich mein Notebook erneuern?\n",
      "Searching text-embedding-ada-002-gpt-4o-s for Was ist MITOD?\n"
     ]
    }
   ],
   "source": [
    "from qdrant_client import QdrantClient\n",
    "\n",
    "client = QdrantClient(\"http://localhost:6333\")\n",
    "\n",
    "def search(collection, query):\n",
    "    return Qdrant(client, collection, embeddings)._similarity_search_with_relevance_scores(query)\n",
    "\n",
    "collections = [pure_collection, question_collection, answer_collection, summary_collection]\n",
    "\n",
    "result_table = []\n",
    "result_table.append([\"Collection\"] + queries)\n",
    "\n",
    "for collection in collections:\n",
    "    row = []\n",
    "    for query in queries:\n",
    "        print(f\"Searching {collection} for {query}\")\n",
    "        search_results = search(collection, query)\n",
    "\n",
    "        row.append(\"\\n\".join([f\"{document.metadata['index']} - {score}\" for document, score in search_results]))\n",
    "\n",
    "    result_table.append([collection] + row)"
   ]
  },
  {
   "cell_type": "code",
   "execution_count": 28,
   "metadata": {
    "dotnet_interactive": {
     "language": "csharp"
    },
    "polyglot_notebook": {
     "kernelName": "csharp"
    }
   },
   "outputs": [
    {
     "name": "stdout",
     "output_type": "stream",
     "text": [
      "+---------------------------------+-------------------------------------------------------------+-----------------------------------------------------------+------------------+\n",
      "| Collection                      | Was mache ich, wenn ich meinen letzten Zug verpasst habe?   | Nach wie vielen Jahren kann ich mein Notebook erneuern?   | Was ist MITOD?   |\n",
      "+=================================+=============================================================+===========================================================+==================+\n",
      "| text-embedding-ada-002-gpt-4o-p | 195 - 0.8112347                                             | 189 - 0.7783993                                           | 137 - 0.8327009  |\n",
      "|                                 | 193 - 0.80416673                                            | 146 - 0.7780005                                           | 41 - 0.7708699   |\n",
      "|                                 | 194 - 0.80018735                                            | 156 - 0.7773744                                           | 13 - 0.76783705  |\n",
      "|                                 | 155 - 0.79777145                                            | 99 - 0.7752526                                            | 66 - 0.7658818   |\n",
      "+---------------------------------+-------------------------------------------------------------+-----------------------------------------------------------+------------------+\n",
      "| text-embedding-ada-002-gpt-4o-q | 193 - 0.8345233                                             | 101 - 0.79492396                                          | 137 - 0.854287   |\n",
      "|                                 | 195 - 0.8119071                                             | 99 - 0.7843581                                            | 136 - 0.78187346 |\n",
      "|                                 | 168 - 0.7928054                                             | 26 - 0.7822619                                            | 135 - 0.7657523  |\n",
      "|                                 | 95 - 0.7923976                                              | 189 - 0.78170997                                          | 15 - 0.7638819   |\n",
      "+---------------------------------+-------------------------------------------------------------+-----------------------------------------------------------+------------------+\n",
      "| text-embedding-ada-002-gpt-4o-a | 193 - 0.87560123                                            | 156 - 0.78825766                                          | 137 - 0.8498064  |\n",
      "|                                 | 195 - 0.82583714                                            | 157 - 0.78658044                                          | 1 - 0.7818439    |\n",
      "|                                 | 194 - 0.8005792                                             | 189 - 0.7856904                                           | 135 - 0.77562225 |\n",
      "|                                 | 23 - 0.7979908                                              | 99 - 0.7811346                                            | 94 - 0.7734972   |\n",
      "+---------------------------------+-------------------------------------------------------------+-----------------------------------------------------------+------------------+\n",
      "| text-embedding-ada-002-gpt-4o-s | 193 - 0.82005405                                            | 189 - 0.7941838                                           | 137 - 0.85362315 |\n",
      "|                                 | 195 - 0.8190077                                             | 156 - 0.79173046                                          | 41 - 0.7725769   |\n",
      "|                                 | 23 - 0.7990318                                              | 97 - 0.7815831                                            | 13 - 0.7724644   |\n",
      "|                                 | 155 - 0.7971668                                             | 157 - 0.7815089                                           | 66 - 0.77124995  |\n",
      "+---------------------------------+-------------------------------------------------------------+-----------------------------------------------------------+------------------+\n"
     ]
    }
   ],
   "source": [
    "from tabulate import tabulate\n",
    "\n",
    "print(tabulate(result_table, tablefmt=\"grid\", headers=\"firstrow\"))"
   ]
  },
  {
   "cell_type": "markdown",
   "metadata": {},
   "source": [
    "# To check a result, put the index in the following cell and run it"
   ]
  },
  {
   "cell_type": "code",
   "execution_count": 29,
   "metadata": {
    "dotnet_interactive": {
     "language": "csharp"
    },
    "polyglot_notebook": {
     "kernelName": "csharp"
    }
   },
   "outputs": [
    {
     "name": "stdout",
     "output_type": "stream",
     "text": [
      "### Büroausstattung  \n",
      "Zur Standard-Ausstattung gehört nach bestandener Probezeit ein höhenverstellbarer Tisch sowie ein \"personalisierter\" Bürostuhl (personalisiert heißt, dass dein Name drauf steht und er entsprechend deinen Bedürfnissen eingestellt wurde). Gleiches gilt im Übrigen auch fürs HomeOffice (hast du einen HomeOffice Vertrag, wird dir alles nach Hause geliefert). Bestellung und Lieferung vor allem der Tische ist aufwendig, deshalb machen wir das dann, wenn klar ist, dass du mit dieser Ausstattung länger arbeiten wirst.  \n",
      "### Hardwareausstattung  \n",
      "Jeder Mitarbeiter bekommt Folgendes an Hardware:  \n",
      "* Notebook nach Wahl (z. B. Macbook, Surface Book, Dell XPS 15) - Wichtig ist, dass du dich mit deiner Hardware wohl fühlst und mit maximaler Leistung arbeiten kannst.\n",
      "* Tablet nach Wahl\n",
      "* Telefon nach Wahl\n",
      "* 2x Monitore (alternativ kann auch ein etwas größerer Monitor bestellt werden)\n",
      "* Noise-Cancelling Kopfhörer  \n",
      "Außerdem alles, was man sonst noch an Zubehör benötigt:  \n",
      "* Netzteil(e)&#x20;\n",
      "* Notwendige Adapter\n",
      "* Maus und Tastatur\n",
      "* Docking-Station wenn verfügbar  \n",
      "> Generell kann das Zubehör auch mehrfach gekauft werden. Gerade wenn man viel unterwegs ist, oder auch öfter mal zwischen Büro und HomeOffice wechselt, spart es die Mühe, jedes Mal an alle Kleinteile zu denken und sie komplett einzupacken.\n",
      "\n",
      "\n",
      "{'Header 1': 'Büro- und Geschäftsausstattung', 'Header 2': 'Büro- und Geschäftsausstattung', 'source': '../../tt-readme/best-practices/arbeiten-bei-tt/buero-und-geschaeftsausstattung.md', 'index': 156, 'original_content': '### Büroausstattung  \\nZur Standard-Ausstattung gehört nach bestandener Probezeit ein höhenverstellbarer Tisch sowie ein \"personalisierter\" Bürostuhl (personalisiert heißt, dass dein Name drauf steht und er entsprechend deinen Bedürfnissen eingestellt wurde). Gleiches gilt im Übrigen auch fürs HomeOffice (hast du einen HomeOffice Vertrag, wird dir alles nach Hause geliefert). Bestellung und Lieferung vor allem der Tische ist aufwendig, deshalb machen wir das dann, wenn klar ist, dass du mit dieser Ausstattung länger arbeiten wirst.  \\n### Hardwareausstattung  \\nJeder Mitarbeiter bekommt Folgendes an Hardware:  \\n* Notebook nach Wahl (z. B. Macbook, Surface Book, Dell XPS 15) - Wichtig ist, dass du dich mit deiner Hardware wohl fühlst und mit maximaler Leistung arbeiten kannst.\\n* Tablet nach Wahl\\n* Telefon nach Wahl\\n* 2x Monitore (alternativ kann auch ein etwas größerer Monitor bestellt werden)\\n* Noise-Cancelling Kopfhörer  \\nAußerdem alles, was man sonst noch an Zubehör benötigt:  \\n* Netzteil(e)&#x20;\\n* Notwendige Adapter\\n* Maus und Tastatur\\n* Docking-Station wenn verfügbar  \\n> Generell kann das Zubehör auch mehrfach gekauft werden. Gerade wenn man viel unterwegs ist, oder auch öfter mal zwischen Büro und HomeOffice wechselt, spart es die Mühe, jedes Mal an alle Kleinteile zu denken und sie komplett einzupacken.'}\n",
      "\n",
      "\n",
      "Questions: 1. Welche Büroausstattung erhält ein Mitarbeiter nach bestandener Probezeit?\n",
      "2. Welche Hardware und Zubehörteile werden den Mitarbeitern zur Verfügung gestellt?\n",
      "3. Wie wird die Büroausstattung für das HomeOffice organisiert und geliefert?\n",
      "\n",
      "\n",
      "Answers: Der Text beschreibt die Büro- und Hardwareausstattung, die Mitarbeiter nach bestandener Probezeit erhalten. Dazu gehören höhenverstellbare Tische, personalisierte Bürostühle sowie eine umfangreiche Auswahl an Hardware wie Notebooks, Tablets, Telefone, Monitore und Zubehör, die auch für das HomeOffice bereitgestellt werden.\n",
      "\n",
      "\n",
      "Summary: ### Zusammenfassung\n",
      "\n",
      "Nach der Probezeit erhalten Mitarbeiter einen höhenverstellbaren Tisch und einen personalisierten Bürostuhl, sowohl im Büro als auch im HomeOffice. Die Hardwareausstattung umfasst ein Notebook, Tablet, Telefon, zwei Monitore (oder einen größeren), Noise-Cancelling Kopfhörer sowie notwendiges Zubehör wie Netzteile, Adapter, Maus, Tastatur und Docking-Station. Zubehör kann mehrfach bestellt werden, um den Wechsel zwischen Büro und HomeOffice zu erleichtern.\n",
      "\n",
      "\n"
     ]
    }
   ],
   "source": [
    "found_index = 156\n",
    "\n",
    "# find the document with the metadata index of the found_index variable\n",
    "\n",
    "found_document = None\n",
    "for doc in split_documents:\n",
    "    if doc.metadata[\"index\"] == found_index:\n",
    "        found_document = doc\n",
    "        break\n",
    "\n",
    "print(f'{found_document.page_content}\\n\\n')\n",
    "print(f'{found_document.metadata}\\n\\n')\n",
    "\n",
    "for doc in question_documents:\n",
    "    if doc.metadata[\"index\"] == found_index:\n",
    "        found_document = doc\n",
    "        break\n",
    "\n",
    "print(f\"Questions: {found_document.page_content}\\n\\n\")\n",
    "\n",
    "for doc in answer_documents:\n",
    "    if doc.metadata[\"index\"] == found_index:\n",
    "        found_document = doc\n",
    "        break\n",
    "\n",
    "print(f\"Answers: {found_document.page_content}\\n\\n\")\n",
    "\n",
    "for doc in summary_documents:\n",
    "    if doc.metadata[\"index\"] == found_index:\n",
    "        found_document = doc\n",
    "        break\n",
    "\n",
    "print(f\"Summary: {found_document.page_content}\\n\\n\")\n"
   ]
  }
 ],
 "metadata": {
  "kernelspec": {
   "display_name": "Python 3",
   "language": "python",
   "name": "python3"
  },
  "language_info": {
   "codemirror_mode": {
    "name": "ipython",
    "version": 3
   },
   "file_extension": ".py",
   "mimetype": "text/x-python",
   "name": "python",
   "nbconvert_exporter": "python",
   "pygments_lexer": "ipython3",
   "version": "3.9.19"
  },
  "orig_nbformat": 4,
  "polyglot_notebook": {
   "kernelInfo": {
    "defaultKernelName": "csharp",
    "items": [
     {
      "aliases": [],
      "name": "csharp"
     }
    ]
   }
  }
 },
 "nbformat": 4,
 "nbformat_minor": 2
}
